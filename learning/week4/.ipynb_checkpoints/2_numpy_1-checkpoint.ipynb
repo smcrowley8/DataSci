{
 "cells": [
  {
   "cell_type": "markdown",
   "metadata": {},
   "source": [
    "# Numpy\n",
    "\n",
    "In this notebook, you will learn:\n",
    " - Basics of numpy\n",
    " - Array indexing and slicing\n",
    " - Fancy indexing\n",
    " - Concatenation and splitting\n",
    " - Array mathematics\n",
    " - Statistics\n",
    " - Broadcasting\n",
    " - Boolean array\n",
    " - Sorting arrays\n",
    " \n",
    "Read more: \n",
    " - textbook (https://jakevdp.github.io/PythonDataScienceHandbook/02.00-introduction-to-numpy.html) and\n",
    " - [Numpy website] (https://numpy.org/)."
   ]
  },
  {
   "cell_type": "markdown",
   "metadata": {},
   "source": [
    "Numpy is the core library for scientific computing in Python. It provides a high-performance multidimensional array object, and tools for working with these arrays."
   ]
  },
  {
   "cell_type": "markdown",
   "metadata": {},
   "source": [
    "To use Numpy, we first need to import the `numpy` package:"
   ]
  },
  {
   "cell_type": "code",
   "execution_count": 1,
   "metadata": {},
   "outputs": [],
   "source": [
    "import numpy as np"
   ]
  },
  {
   "cell_type": "markdown",
   "metadata": {},
   "source": [
    "### 1.1 Basics of numpy"
   ]
  },
  {
   "cell_type": "markdown",
   "metadata": {},
   "source": [
    "A numpy array is a grid of values, all of the same type, and is indexed by a tuple of nonnegative integers. \n",
    " - The number of dimensions is the **rank** of the array; \n",
    " - The **shape** of an array is a tuple of integers giving the size of the array along each dimension."
   ]
  },
  {
   "cell_type": "code",
   "execution_count": 4,
   "metadata": {
    "scrolled": true
   },
   "outputs": [
    {
     "name": "stdout",
     "output_type": "stream",
     "text": [
      "0\n",
      "1\n",
      "2\n",
      "(2, 3)\n"
     ]
    }
   ],
   "source": [
    "print(np.ndim(1))                            # rank 0\n",
    "print(np.ndim([1,2,3]))                      # rank 1\n",
    "print(np.ndim(np.array([[1,2,3],[4,5,6]])))  # rank 2\n",
    "print(np.shape(np.array([[1,2,3],[4,5,6]])))"
   ]
  },
  {
   "cell_type": "markdown",
   "metadata": {},
   "source": [
    "We can initialize numpy arrays from nested Python lists, and access elements using square brackets:"
   ]
  },
  {
   "cell_type": "code",
   "execution_count": 23,
   "metadata": {},
   "outputs": [
    {
     "name": "stdout",
     "output_type": "stream",
     "text": [
      "1 [1 2 3]\n",
      "(3,)\n"
     ]
    }
   ],
   "source": [
    "# Create a rank 1 array with np.array\n",
    "a =np.array([1,2,3])\n",
    "#a=np.full(shape=(3,), fill_value=3) \n",
    "#shape of (1,3) is a 2d array with a 1d inside\n",
    "print(a.ndim, a) \n",
    "print(a.shape)"
   ]
  },
  {
   "cell_type": "code",
   "execution_count": 8,
   "metadata": {},
   "outputs": [
    {
     "name": "stdout",
     "output_type": "stream",
     "text": [
      "2 [[1 2]\n",
      " [3 4]]\n"
     ]
    }
   ],
   "source": [
    "# Create a rank 2 array with np.array\n",
    "b = np.array([[1,2],[3,4]])\n",
    "print(b.ndim, b)"
   ]
  },
  {
   "cell_type": "markdown",
   "metadata": {},
   "source": [
    "Numpy also provides many functions to create arrays:"
   ]
  },
  {
   "cell_type": "code",
   "execution_count": 11,
   "metadata": {},
   "outputs": [
    {
     "name": "stdout",
     "output_type": "stream",
     "text": [
      "[[0 0 0 0 0]]\n"
     ]
    }
   ],
   "source": [
    "a = np.zeros(shape=(1,5), dtype=int) # Create an array of all zeros\n",
    "print (a)"
   ]
  },
  {
   "cell_type": "code",
   "execution_count": 12,
   "metadata": {},
   "outputs": [
    {
     "name": "stdout",
     "output_type": "stream",
     "text": [
      "[[1 1 1 1 1]]\n"
     ]
    }
   ],
   "source": [
    "b = np.full(shape=(1,5),fill_value=1, dtype=int) # Create an array of all ones\n",
    "print (b)"
   ]
  },
  {
   "cell_type": "code",
   "execution_count": 13,
   "metadata": {},
   "outputs": [
    {
     "name": "stdout",
     "output_type": "stream",
     "text": [
      "[[3 3 3 3 3]\n",
      " [3 3 3 3 3]]\n"
     ]
    }
   ],
   "source": [
    "c = np.full(shape=(2,5), fill_value=3, dtype=int) # Create a constant array with full\n",
    "print (c) "
   ]
  },
  {
   "cell_type": "code",
   "execution_count": 14,
   "metadata": {},
   "outputs": [
    {
     "name": "stdout",
     "output_type": "stream",
     "text": [
      "[[1. 0.]\n",
      " [0. 1.]]\n"
     ]
    }
   ],
   "source": [
    "d = np.identity(2)        # Create a 2x2 identity matrix\n",
    "print (d)"
   ]
  },
  {
   "cell_type": "code",
   "execution_count": 37,
   "metadata": {},
   "outputs": [
    {
     "name": "stdout",
     "output_type": "stream",
     "text": [
      "[ 4 12  0  4  6 11  8  4 18 14] (10,)\n"
     ]
    }
   ],
   "source": [
    "np.random.seed(22)\n",
    "e = np.random.randint(low=0, high=20, size=10, dtype=int)\n",
    "# Create an array filled with random values\n",
    "print (e, e.shape)"
   ]
  },
  {
   "cell_type": "markdown",
   "metadata": {},
   "source": [
    "### np.random.normal()"
   ]
  },
  {
   "cell_type": "code",
   "execution_count": 31,
   "metadata": {},
   "outputs": [
    {
     "name": "stdout",
     "output_type": "stream",
     "text": [
      "[ 0.81879162 -1.04355064  0.3509007   0.92157829 -0.08738186 -3.12888464\n",
      " -0.96973267  0.93466579  0.04386634  1.4252155  -0.55706272  0.92682445\n",
      " -1.28355374  1.09625686 -1.93247255  0.4789592   1.34458964 -0.17542066\n",
      " -0.08270438 -0.88845473 -0.30076649  0.90837517 -0.64559131 -1.32361363\n",
      "  1.67798561  0.29918144  0.1094715   1.04408091  0.1496757  -0.25247508\n",
      "  0.84703683  0.50577368  0.39264502  0.14184493 -1.14321737  0.63979663\n",
      " -0.59136144 -0.46415036 -0.79785911  1.31076281  1.17479389 -0.05046953\n",
      "  0.71895176 -0.59636537  0.25624696  0.77428894 -0.65856962  0.42183733\n",
      " -0.47096903  2.1580121 ]\n"
     ]
    }
   ],
   "source": [
    "np.random.seed(234)\n",
    "r=np.random.normal(size=(50,))\n",
    "print(r)"
   ]
  },
  {
   "cell_type": "markdown",
   "metadata": {},
   "source": [
    "### reshaping\n"
   ]
  },
  {
   "cell_type": "code",
   "execution_count": 34,
   "metadata": {},
   "outputs": [
    {
     "name": "stdout",
     "output_type": "stream",
     "text": [
      "[[1 2 3]\n",
      " [4 5 6]] (2, 3)\n",
      "[[1 2]\n",
      " [3 4]\n",
      " [5 6]] (3, 2)\n",
      "[1 2 3 4 5 6] (6,)\n"
     ]
    }
   ],
   "source": [
    "oldArr=np.array([[1,2,3],[4,5,6]])\n",
    "print(oldArr, oldArr.shape)\n",
    "newArr=oldArr.reshape((3,2))\n",
    "print(newArr, newArr.shape)\n",
    "newArr=oldArr.reshape((6,))\n",
    "print(newArr, newArr.shape)"
   ]
  },
  {
   "cell_type": "code",
   "execution_count": 35,
   "metadata": {},
   "outputs": [
    {
     "name": "stdout",
     "output_type": "stream",
     "text": [
      "[1 2 3 4 5 6] (6,)\n",
      "[1 4 2 5 3 6] (6,)\n"
     ]
    }
   ],
   "source": [
    "#flatten goes from ndim to 0\n",
    "newArr=oldArr.flatten(order='C')\n",
    "#goes through each list then goes to next\n",
    "print(newArr, newArr.shape)\n",
    "newArr=oldArr.flatten(order='F') \n",
    "#takes first element from each list, then goes on to next from each\n",
    "print(newArr, newArr.shape)"
   ]
  }
 ],
 "metadata": {
  "kernelspec": {
   "display_name": "Python 3",
   "language": "python",
   "name": "python3"
  },
  "language_info": {
   "codemirror_mode": {
    "name": "ipython",
    "version": 3
   },
   "file_extension": ".py",
   "mimetype": "text/x-python",
   "name": "python",
   "nbconvert_exporter": "python",
   "pygments_lexer": "ipython3",
   "version": "3.8.5"
  }
 },
 "nbformat": 4,
 "nbformat_minor": 1
}
