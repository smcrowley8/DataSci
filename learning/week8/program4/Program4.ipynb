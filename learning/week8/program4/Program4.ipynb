{
 "cells": [
  {
   "cell_type": "markdown",
   "metadata": {},
   "source": [
    "# Program 4 - Pandas Basics\n",
    "\n",
    "## Part 1 (Questions 1-4)\n",
    "\n",
    "The following code loads the olympics dataset (olympics.csv), which was derrived from the Wikipedia entry on [All Time Olympic Games Medals](https://en.wikipedia.org/wiki/All-time_Olympic_Games_medal_table), and does some basic data cleaning. "
   ]
  },
  {
   "cell_type": "code",
   "execution_count": 4,
   "metadata": {
    "nbgrader": {
     "grade": false,
     "grade_id": "1",
     "locked": false,
     "solution": false
    },
    "umich_question": "prolog-000"
   },
   "outputs": [
    {
     "name": "stdout",
     "output_type": "stream",
     "text": [
      "Index(['S_Games', 'S_Gold', 'S_Silver', 'S_Bronze', 'S_Total', 'W_Games',\n",
      "       'W_Gold', 'W_Silver', 'W_Bronze', 'W_Total', 'Total_Games',\n",
      "       'Total_Gold', 'Total_Silver', 'Total_Bronze', 'Combined_Total'],\n",
      "      dtype='object')\n",
      "Index(['ID', 'S_Games', 'S_Gold', 'S_Silver', 'S_Bronze', 'S_Total', 'W_Games',\n",
      "       'W_Gold', 'W_Silver', 'W_Bronze', 'W_Total', 'Total_Games',\n",
      "       'Total_Gold', 'Total_Silver', 'Total_Bronze', 'Combined_Total'],\n",
      "      dtype='object')\n"
     ]
    },
    {
     "data": {
      "text/html": [
       "<div>\n",
       "<style scoped>\n",
       "    .dataframe tbody tr th:only-of-type {\n",
       "        vertical-align: middle;\n",
       "    }\n",
       "\n",
       "    .dataframe tbody tr th {\n",
       "        vertical-align: top;\n",
       "    }\n",
       "\n",
       "    .dataframe thead th {\n",
       "        text-align: right;\n",
       "    }\n",
       "</style>\n",
       "<table border=\"1\" class=\"dataframe\">\n",
       "  <thead>\n",
       "    <tr style=\"text-align: right;\">\n",
       "      <th></th>\n",
       "      <th>ID</th>\n",
       "      <th>S_Games</th>\n",
       "      <th>S_Gold</th>\n",
       "      <th>S_Silver</th>\n",
       "      <th>S_Bronze</th>\n",
       "      <th>S_Total</th>\n",
       "      <th>W_Games</th>\n",
       "      <th>W_Gold</th>\n",
       "      <th>W_Silver</th>\n",
       "      <th>W_Bronze</th>\n",
       "      <th>W_Total</th>\n",
       "      <th>Total_Games</th>\n",
       "      <th>Total_Gold</th>\n",
       "      <th>Total_Silver</th>\n",
       "      <th>Total_Bronze</th>\n",
       "      <th>Combined_Total</th>\n",
       "    </tr>\n",
       "  </thead>\n",
       "  <tbody>\n",
       "    <tr>\n",
       "      <th>Afghanistan</th>\n",
       "      <td>AFG</td>\n",
       "      <td>13</td>\n",
       "      <td>0</td>\n",
       "      <td>0</td>\n",
       "      <td>2</td>\n",
       "      <td>2</td>\n",
       "      <td>0</td>\n",
       "      <td>0</td>\n",
       "      <td>0</td>\n",
       "      <td>0</td>\n",
       "      <td>0</td>\n",
       "      <td>13</td>\n",
       "      <td>0</td>\n",
       "      <td>0</td>\n",
       "      <td>2</td>\n",
       "      <td>2</td>\n",
       "    </tr>\n",
       "    <tr>\n",
       "      <th>Algeria</th>\n",
       "      <td>ALG</td>\n",
       "      <td>12</td>\n",
       "      <td>5</td>\n",
       "      <td>2</td>\n",
       "      <td>8</td>\n",
       "      <td>15</td>\n",
       "      <td>3</td>\n",
       "      <td>0</td>\n",
       "      <td>0</td>\n",
       "      <td>0</td>\n",
       "      <td>0</td>\n",
       "      <td>15</td>\n",
       "      <td>5</td>\n",
       "      <td>2</td>\n",
       "      <td>8</td>\n",
       "      <td>15</td>\n",
       "    </tr>\n",
       "    <tr>\n",
       "      <th>Argentina</th>\n",
       "      <td>ARG</td>\n",
       "      <td>23</td>\n",
       "      <td>18</td>\n",
       "      <td>24</td>\n",
       "      <td>28</td>\n",
       "      <td>70</td>\n",
       "      <td>18</td>\n",
       "      <td>0</td>\n",
       "      <td>0</td>\n",
       "      <td>0</td>\n",
       "      <td>0</td>\n",
       "      <td>41</td>\n",
       "      <td>18</td>\n",
       "      <td>24</td>\n",
       "      <td>28</td>\n",
       "      <td>70</td>\n",
       "    </tr>\n",
       "    <tr>\n",
       "      <th>Armenia</th>\n",
       "      <td>ARM</td>\n",
       "      <td>5</td>\n",
       "      <td>1</td>\n",
       "      <td>2</td>\n",
       "      <td>9</td>\n",
       "      <td>12</td>\n",
       "      <td>6</td>\n",
       "      <td>0</td>\n",
       "      <td>0</td>\n",
       "      <td>0</td>\n",
       "      <td>0</td>\n",
       "      <td>11</td>\n",
       "      <td>1</td>\n",
       "      <td>2</td>\n",
       "      <td>9</td>\n",
       "      <td>12</td>\n",
       "    </tr>\n",
       "    <tr>\n",
       "      <th>Australasia</th>\n",
       "      <td>ANZ</td>\n",
       "      <td>2</td>\n",
       "      <td>3</td>\n",
       "      <td>4</td>\n",
       "      <td>5</td>\n",
       "      <td>12</td>\n",
       "      <td>0</td>\n",
       "      <td>0</td>\n",
       "      <td>0</td>\n",
       "      <td>0</td>\n",
       "      <td>0</td>\n",
       "      <td>2</td>\n",
       "      <td>3</td>\n",
       "      <td>4</td>\n",
       "      <td>5</td>\n",
       "      <td>12</td>\n",
       "    </tr>\n",
       "  </tbody>\n",
       "</table>\n",
       "</div>"
      ],
      "text/plain": [
       "              ID  S_Games  S_Gold  S_Silver  S_Bronze  S_Total  W_Games  \\\n",
       "Afghanistan  AFG       13       0         0         2        2        0   \n",
       "Algeria      ALG       12       5         2         8       15        3   \n",
       "Argentina    ARG       23      18        24        28       70       18   \n",
       "Armenia      ARM        5       1         2         9       12        6   \n",
       "Australasia  ANZ        2       3         4         5       12        0   \n",
       "\n",
       "             W_Gold  W_Silver  W_Bronze  W_Total  Total_Games  Total_Gold  \\\n",
       "Afghanistan       0         0         0        0           13           0   \n",
       "Algeria           0         0         0        0           15           5   \n",
       "Argentina         0         0         0        0           41          18   \n",
       "Armenia           0         0         0        0           11           1   \n",
       "Australasia       0         0         0        0            2           3   \n",
       "\n",
       "             Total_Silver  Total_Bronze  Combined_Total  \n",
       "Afghanistan             0             2               2  \n",
       "Algeria                 2             8              15  \n",
       "Argentina              24            28              70  \n",
       "Armenia                 2             9              12  \n",
       "Australasia             4             5              12  "
      ]
     },
     "execution_count": 4,
     "metadata": {},
     "output_type": "execute_result"
    }
   ],
   "source": [
    "import pandas as pd\n",
    "import numpy as np\n",
    "\n",
    "df = pd.read_csv('olympics.csv', index_col=0, skiprows=1)\n",
    "print(df.columns)\n",
    "df.head()\n",
    "# The first column is split into country with ID\n",
    "names_ids = df.index.str.split('\\s\\(') # split the index by '('\n",
    "df.index = names_ids.str[0] # the [0] element is the country name (new index) \n",
    "df['ID'] = names_ids.str[1].str[:3] # the [1] element is the abbreviation or ID (take first 3 characters from that)\n",
    "\n",
    "# rearrange column order\n",
    "cols = df.columns.tolist()\n",
    "cols = cols[-1:] + cols[:-1]\n",
    "df = df[cols]  \n",
    "\n",
    "print (df.columns)\n",
    "df.head()"
   ]
  },
  {
   "cell_type": "markdown",
   "metadata": {},
   "source": [
    "After data cleaning process, the dataframe has coutryname as index, and has 16 columns. \n",
    "\n",
    "The columns are organized as :\n",
    " - Column 1: 'ID': country code \n",
    " - Column 2-6: Summer game\n",
    "   - 'S_Games': the `#` of Summer games participated \n",
    "   - 'S_Gold', 'S_Silver', 'S_Bronze', 'S_Total': the `#` of medals gold, silver, bronze, and total obtained in summer games\n",
    " - Column 7-11: Winter game\n",
    "   - 'W_Games': the `#` of Winter games participated \n",
    "   - 'W_Gold', 'W_Silver', 'W_Bronze', 'W_Total': the `#` of medals gold, silver, bronze, and total obtained in winter games\n",
    " - Column 12-16: combined games  \n",
    "   - 'Total_Games': the `#` of total games participated \n",
    "   - 'Total_Gold', 'Total_Silver', 'Total_Bronze', 'Combined_Total': the `#` of medals gold, silver, bronze, and total obtained in (summer + winter) games"
   ]
  },
  {
   "cell_type": "markdown",
   "metadata": {},
   "source": [
    "#### Question 1\n",
    "\n",
    "return the row with index of `United States` from dataframe `df`."
   ]
  },
  {
   "cell_type": "code",
   "execution_count": 15,
   "metadata": {
    "umich_question": "000"
   },
   "outputs": [
    {
     "data": {
      "text/plain": [
       "ID                 USA\n",
       "S_Games             26\n",
       "S_Gold             976\n",
       "S_Silver           757\n",
       "S_Bronze           666\n",
       "S_Total           2399\n",
       "W_Games             22\n",
       "W_Gold              96\n",
       "W_Silver           102\n",
       "W_Bronze            84\n",
       "W_Total            282\n",
       "Total_Games         48\n",
       "Total_Gold        1072\n",
       "Total_Silver       859\n",
       "Total_Bronze       750\n",
       "Combined_Total    2681\n",
       "Name: United States, dtype: object"
      ]
     },
     "execution_count": 15,
     "metadata": {},
     "output_type": "execute_result"
    }
   ],
   "source": [
    "def question_one():\n",
    "\n",
    "    ### START CODE HERE ### (≈ 1 line of code)\n",
    "    # replace None with your code\n",
    "    \n",
    "    return df.loc[\"United States\"] \n",
    "    #apparently doing \n",
    "        #df.loc[[\"united States\"]] \n",
    "        #will return a dataframe with only that row, so thats nice too\n",
    "    #both of my above solutions return the same result, kinda different to your expected but i think what you want\n",
    "    \n",
    "    ### END CODE HERE ###\n",
    "    \n",
    "# do not change the code below  \n",
    "question_one()"
   ]
  },
  {
   "cell_type": "markdown",
   "metadata": {},
   "source": [
    "**Expected Output**: "
   ]
  },
  {
   "cell_type": "raw",
   "metadata": {},
   "source": [
    "                                ID                 USA\n",
    "                                S_Games             26\n",
    "                                S_Gold             976\n",
    "                                S_Silver           757\n",
    "                                S_Bronze           666\n",
    "                                S_Total           2399\n",
    "                                W_Games             22\n",
    "                                W_Gold              96\n",
    "                                W_Silver           102\n",
    "                                W_Bronze            84\n",
    "                                W_Total            282\n",
    "                                Total_Games         48\n",
    "                                Total_Gold        1072\n",
    "                                Total_Silver       859\n",
    "                                Total_Bronze       750\n",
    "                                Combined_Total    2681\n",
    "                                Name: United States, dtype: object"
   ]
  },
  {
   "cell_type": "code",
   "execution_count": 20,
   "metadata": {
    "scrolled": true
   },
   "outputs": [
    {
     "name": "stdout",
     "output_type": "stream",
     "text": [
      "<class 'pandas.core.frame.DataFrame'>\n"
     ]
    },
    {
     "data": {
      "text/html": [
       "<div>\n",
       "<style scoped>\n",
       "    .dataframe tbody tr th:only-of-type {\n",
       "        vertical-align: middle;\n",
       "    }\n",
       "\n",
       "    .dataframe tbody tr th {\n",
       "        vertical-align: top;\n",
       "    }\n",
       "\n",
       "    .dataframe thead th {\n",
       "        text-align: right;\n",
       "    }\n",
       "</style>\n",
       "<table border=\"1\" class=\"dataframe\">\n",
       "  <thead>\n",
       "    <tr style=\"text-align: right;\">\n",
       "      <th></th>\n",
       "      <th>ID</th>\n",
       "      <th>S_Games</th>\n",
       "      <th>S_Gold</th>\n",
       "      <th>S_Silver</th>\n",
       "      <th>S_Bronze</th>\n",
       "      <th>S_Total</th>\n",
       "      <th>W_Games</th>\n",
       "      <th>W_Gold</th>\n",
       "      <th>W_Silver</th>\n",
       "      <th>W_Bronze</th>\n",
       "      <th>W_Total</th>\n",
       "      <th>Total_Games</th>\n",
       "      <th>Total_Gold</th>\n",
       "      <th>Total_Silver</th>\n",
       "      <th>Total_Bronze</th>\n",
       "      <th>Combined_Total</th>\n",
       "    </tr>\n",
       "  </thead>\n",
       "  <tbody>\n",
       "    <tr>\n",
       "      <th>United States</th>\n",
       "      <td>USA</td>\n",
       "      <td>26</td>\n",
       "      <td>976</td>\n",
       "      <td>757</td>\n",
       "      <td>666</td>\n",
       "      <td>2399</td>\n",
       "      <td>22</td>\n",
       "      <td>96</td>\n",
       "      <td>102</td>\n",
       "      <td>84</td>\n",
       "      <td>282</td>\n",
       "      <td>48</td>\n",
       "      <td>1072</td>\n",
       "      <td>859</td>\n",
       "      <td>750</td>\n",
       "      <td>2681</td>\n",
       "    </tr>\n",
       "  </tbody>\n",
       "</table>\n",
       "</div>"
      ],
      "text/plain": [
       "                ID  S_Games  S_Gold  S_Silver  S_Bronze  S_Total  W_Games  \\\n",
       "United States  USA       26     976       757       666     2399       22   \n",
       "\n",
       "               W_Gold  W_Silver  W_Bronze  W_Total  Total_Games  Total_Gold  \\\n",
       "United States      96       102        84      282           48        1072   \n",
       "\n",
       "               Total_Silver  Total_Bronze  Combined_Total  \n",
       "United States           859           750            2681  "
      ]
     },
     "metadata": {},
     "output_type": "display_data"
    }
   ],
   "source": [
    "#this is just nice and i didnt realize it would do that\n",
    "tmpIdx=\"United States\"\n",
    "print(type(df.loc[[tmpIdx]]))\n",
    "display(df.loc[[tmpIdx]])"
   ]
  },
  {
   "cell_type": "markdown",
   "metadata": {},
   "source": [
    "#### Question 2\n",
    "Which country has won the most gold medals in summer games (Hint: Use column `S_Gold`)?"
   ]
  },
  {
   "cell_type": "code",
   "execution_count": 27,
   "metadata": {
    "nbgrader": {
     "grade": false,
     "locked": false,
     "solution": false
    },
    "umich_part_id": "001",
    "umich_partlist_id": "001"
   },
   "outputs": [
    {
     "data": {
      "text/plain": [
       "'United States'"
      ]
     },
     "execution_count": 27,
     "metadata": {},
     "output_type": "execute_result"
    }
   ],
   "source": [
    "def question_two():\n",
    "\n",
    "    ### START CODE HERE ### (≈ 1 line of code)\n",
    "    # replace None with your code\n",
    "    return df.index[df[\"S_Gold\"]==df[\"S_Gold\"].max()][0]\n",
    "    \n",
    "    ### END CODE HERE ###\n",
    "    \n",
    "# do not change the code below  \n",
    "question_two()"
   ]
  },
  {
   "cell_type": "markdown",
   "metadata": {},
   "source": [
    "**Expected Output**: \n",
    "<table >\n",
    "    <tr> \n",
    "        <td> 'United States'</td> \n",
    "    </tr>\n",
    "</table> "
   ]
  },
  {
   "cell_type": "markdown",
   "metadata": {},
   "source": [
    "#### Question 3\n",
    "Which country had the biggest difference between their summer and winter gold medal counts?"
   ]
  },
  {
   "cell_type": "code",
   "execution_count": 9,
   "metadata": {
    "umich_part_id": "002",
    "umich_partlist_id": "001"
   },
   "outputs": [],
   "source": [
    "def question_three():\n",
    "\n",
    "    ### START CODE HERE ### (≈ 1 line of code)\n",
    "    # replace None with your code\n",
    "    tmp=abs(df[\"S_Gold\"]-df[\"W_Gold\"])\n",
    "    idx=tmp.index(max(tmp))\n",
    "    return \n",
    "    \n",
    "    ### END CODE HERE ###\n",
    "# do not change the code below  \n",
    "question_three()"
   ]
  },
  {
   "cell_type": "markdown",
   "metadata": {},
   "source": [
    "**Expected Output**: \n",
    "<table >\n",
    "    <tr> \n",
    "        <td> 'United States'</td> \n",
    "    </tr>\n",
    "</table> "
   ]
  },
  {
   "cell_type": "markdown",
   "metadata": {},
   "source": [
    "#### Question 4\n",
    "Creates a Series called \"Total_Points\" which is a weighted value where each gold medal (`Total_Gold`) counts for 3 points, silver medals (`Total_Silver`) for 2 points, and bronze medals (`Total_Bronze`) for 1 point."
   ]
  },
  {
   "cell_type": "code",
   "execution_count": 20,
   "metadata": {
    "umich_part_id": "004",
    "umich_partlist_id": "001"
   },
   "outputs": [
    {
     "data": {
      "text/plain": [
       "Yugoslavia                          None\n",
       "Independent Olympic Participants    None\n",
       "Zambia                              None\n",
       "Zimbabwe                            None\n",
       "Mixed team                          None\n",
       "Name: Total_Points, dtype: object"
      ]
     },
     "execution_count": 20,
     "metadata": {},
     "output_type": "execute_result"
    }
   ],
   "source": [
    "def question_four():\n",
    "   \n",
    "    ### START CODE HERE ### (≈ 1 line of code)\n",
    "    # replace None with your code\n",
    "    df['Total_Points'] = None\n",
    "\n",
    "    ### END CODE HERE ###\n",
    "    return df['Total_Points'].sort_values().tail()\n",
    "    \n",
    "# do not change the code below  \n",
    "question_four()"
   ]
  },
  {
   "cell_type": "markdown",
   "metadata": {},
   "source": [
    "**Expected Output:**"
   ]
  },
  {
   "cell_type": "raw",
   "metadata": {},
   "source": [
    "                                France           1500\n",
    "                                Germany          1546\n",
    "                                Great Britain    1574\n",
    "                                Soviet Union     2526\n",
    "                                United States    5684\n",
    "                                Name: Total_Points, dtype: int64"
   ]
  },
  {
   "cell_type": "markdown",
   "metadata": {},
   "source": [
    "## Part 2 (Questions 5-12)\n",
    "We will be using census data from the [United States Census Bureau](http://www.census.gov). Counties are political and geographic subdivisions of states in the United States. This dataset contains population data for counties and states in the US from 2010 to 2015. [See this document](https://www2.census.gov/programs-surveys/popest/technical-documentation/file-layouts/2010-2015/co-est2015-alldata.pdf) for a description of the variable names."
   ]
  },
  {
   "cell_type": "code",
   "execution_count": 11,
   "metadata": {
    "umich_question": "prolog-005"
   },
   "outputs": [
    {
     "data": {
      "text/html": [
       "<div>\n",
       "<style scoped>\n",
       "    .dataframe tbody tr th:only-of-type {\n",
       "        vertical-align: middle;\n",
       "    }\n",
       "\n",
       "    .dataframe tbody tr th {\n",
       "        vertical-align: top;\n",
       "    }\n",
       "\n",
       "    .dataframe thead th {\n",
       "        text-align: right;\n",
       "    }\n",
       "</style>\n",
       "<table border=\"1\" class=\"dataframe\">\n",
       "  <thead>\n",
       "    <tr style=\"text-align: right;\">\n",
       "      <th></th>\n",
       "      <th>SUMLEV</th>\n",
       "      <th>REGION</th>\n",
       "      <th>DIVISION</th>\n",
       "      <th>STATE</th>\n",
       "      <th>COUNTY</th>\n",
       "      <th>STNAME</th>\n",
       "      <th>CTYNAME</th>\n",
       "      <th>CENSUS2010POP</th>\n",
       "      <th>ESTIMATESBASE2010</th>\n",
       "      <th>POPESTIMATE2010</th>\n",
       "      <th>...</th>\n",
       "      <th>RDOMESTICMIG2011</th>\n",
       "      <th>RDOMESTICMIG2012</th>\n",
       "      <th>RDOMESTICMIG2013</th>\n",
       "      <th>RDOMESTICMIG2014</th>\n",
       "      <th>RDOMESTICMIG2015</th>\n",
       "      <th>RNETMIG2011</th>\n",
       "      <th>RNETMIG2012</th>\n",
       "      <th>RNETMIG2013</th>\n",
       "      <th>RNETMIG2014</th>\n",
       "      <th>RNETMIG2015</th>\n",
       "    </tr>\n",
       "  </thead>\n",
       "  <tbody>\n",
       "    <tr>\n",
       "      <td>0</td>\n",
       "      <td>40</td>\n",
       "      <td>3</td>\n",
       "      <td>6</td>\n",
       "      <td>1</td>\n",
       "      <td>0</td>\n",
       "      <td>Alabama</td>\n",
       "      <td>Alabama</td>\n",
       "      <td>4779736</td>\n",
       "      <td>4780127</td>\n",
       "      <td>4785161</td>\n",
       "      <td>...</td>\n",
       "      <td>0.002295</td>\n",
       "      <td>-0.193196</td>\n",
       "      <td>0.381066</td>\n",
       "      <td>0.582002</td>\n",
       "      <td>-0.467369</td>\n",
       "      <td>1.030015</td>\n",
       "      <td>0.826644</td>\n",
       "      <td>1.383282</td>\n",
       "      <td>1.724718</td>\n",
       "      <td>0.712594</td>\n",
       "    </tr>\n",
       "    <tr>\n",
       "      <td>1</td>\n",
       "      <td>50</td>\n",
       "      <td>3</td>\n",
       "      <td>6</td>\n",
       "      <td>1</td>\n",
       "      <td>1</td>\n",
       "      <td>Alabama</td>\n",
       "      <td>Autauga County</td>\n",
       "      <td>54571</td>\n",
       "      <td>54571</td>\n",
       "      <td>54660</td>\n",
       "      <td>...</td>\n",
       "      <td>7.242091</td>\n",
       "      <td>-2.915927</td>\n",
       "      <td>-3.012349</td>\n",
       "      <td>2.265971</td>\n",
       "      <td>-2.530799</td>\n",
       "      <td>7.606016</td>\n",
       "      <td>-2.626146</td>\n",
       "      <td>-2.722002</td>\n",
       "      <td>2.592270</td>\n",
       "      <td>-2.187333</td>\n",
       "    </tr>\n",
       "    <tr>\n",
       "      <td>2</td>\n",
       "      <td>50</td>\n",
       "      <td>3</td>\n",
       "      <td>6</td>\n",
       "      <td>1</td>\n",
       "      <td>3</td>\n",
       "      <td>Alabama</td>\n",
       "      <td>Baldwin County</td>\n",
       "      <td>182265</td>\n",
       "      <td>182265</td>\n",
       "      <td>183193</td>\n",
       "      <td>...</td>\n",
       "      <td>14.832960</td>\n",
       "      <td>17.647293</td>\n",
       "      <td>21.845705</td>\n",
       "      <td>19.243287</td>\n",
       "      <td>17.197872</td>\n",
       "      <td>15.844176</td>\n",
       "      <td>18.559627</td>\n",
       "      <td>22.727626</td>\n",
       "      <td>20.317142</td>\n",
       "      <td>18.293499</td>\n",
       "    </tr>\n",
       "    <tr>\n",
       "      <td>3</td>\n",
       "      <td>50</td>\n",
       "      <td>3</td>\n",
       "      <td>6</td>\n",
       "      <td>1</td>\n",
       "      <td>5</td>\n",
       "      <td>Alabama</td>\n",
       "      <td>Barbour County</td>\n",
       "      <td>27457</td>\n",
       "      <td>27457</td>\n",
       "      <td>27341</td>\n",
       "      <td>...</td>\n",
       "      <td>-4.728132</td>\n",
       "      <td>-2.500690</td>\n",
       "      <td>-7.056824</td>\n",
       "      <td>-3.904217</td>\n",
       "      <td>-10.543299</td>\n",
       "      <td>-4.874741</td>\n",
       "      <td>-2.758113</td>\n",
       "      <td>-7.167664</td>\n",
       "      <td>-3.978583</td>\n",
       "      <td>-10.543299</td>\n",
       "    </tr>\n",
       "    <tr>\n",
       "      <td>4</td>\n",
       "      <td>50</td>\n",
       "      <td>3</td>\n",
       "      <td>6</td>\n",
       "      <td>1</td>\n",
       "      <td>7</td>\n",
       "      <td>Alabama</td>\n",
       "      <td>Bibb County</td>\n",
       "      <td>22915</td>\n",
       "      <td>22919</td>\n",
       "      <td>22861</td>\n",
       "      <td>...</td>\n",
       "      <td>-5.527043</td>\n",
       "      <td>-5.068871</td>\n",
       "      <td>-6.201001</td>\n",
       "      <td>-0.177537</td>\n",
       "      <td>0.177258</td>\n",
       "      <td>-5.088389</td>\n",
       "      <td>-4.363636</td>\n",
       "      <td>-5.403729</td>\n",
       "      <td>0.754533</td>\n",
       "      <td>1.107861</td>\n",
       "    </tr>\n",
       "  </tbody>\n",
       "</table>\n",
       "<p>5 rows × 100 columns</p>\n",
       "</div>"
      ],
      "text/plain": [
       "   SUMLEV  REGION  DIVISION  STATE  COUNTY   STNAME         CTYNAME  \\\n",
       "0      40       3         6      1       0  Alabama         Alabama   \n",
       "1      50       3         6      1       1  Alabama  Autauga County   \n",
       "2      50       3         6      1       3  Alabama  Baldwin County   \n",
       "3      50       3         6      1       5  Alabama  Barbour County   \n",
       "4      50       3         6      1       7  Alabama     Bibb County   \n",
       "\n",
       "   CENSUS2010POP  ESTIMATESBASE2010  POPESTIMATE2010  ...  RDOMESTICMIG2011  \\\n",
       "0        4779736            4780127          4785161  ...          0.002295   \n",
       "1          54571              54571            54660  ...          7.242091   \n",
       "2         182265             182265           183193  ...         14.832960   \n",
       "3          27457              27457            27341  ...         -4.728132   \n",
       "4          22915              22919            22861  ...         -5.527043   \n",
       "\n",
       "   RDOMESTICMIG2012  RDOMESTICMIG2013  RDOMESTICMIG2014  RDOMESTICMIG2015  \\\n",
       "0         -0.193196          0.381066          0.582002         -0.467369   \n",
       "1         -2.915927         -3.012349          2.265971         -2.530799   \n",
       "2         17.647293         21.845705         19.243287         17.197872   \n",
       "3         -2.500690         -7.056824         -3.904217        -10.543299   \n",
       "4         -5.068871         -6.201001         -0.177537          0.177258   \n",
       "\n",
       "   RNETMIG2011  RNETMIG2012  RNETMIG2013  RNETMIG2014  RNETMIG2015  \n",
       "0     1.030015     0.826644     1.383282     1.724718     0.712594  \n",
       "1     7.606016    -2.626146    -2.722002     2.592270    -2.187333  \n",
       "2    15.844176    18.559627    22.727626    20.317142    18.293499  \n",
       "3    -4.874741    -2.758113    -7.167664    -3.978583   -10.543299  \n",
       "4    -5.088389    -4.363636    -5.403729     0.754533     1.107861  \n",
       "\n",
       "[5 rows x 100 columns]"
      ]
     },
     "execution_count": 11,
     "metadata": {},
     "output_type": "execute_result"
    }
   ],
   "source": [
    "census_df = pd.read_csv('census.csv')\n",
    "census_df.head()"
   ]
  },
  {
   "cell_type": "markdown",
   "metadata": {},
   "source": [
    "#### Question 5\n",
    "\n",
    "Split the `census_df` into two dataframes:\n",
    "  - `state_census_df`: containing state level records (i.e `SUMLEV` == 40)\n",
    "  - `city_census_df`: containing city level records (i.e `SUMLEV` == 50)\n",
    "  \n",
    "Return these two data frames."
   ]
  },
  {
   "cell_type": "code",
   "execution_count": 21,
   "metadata": {},
   "outputs": [
    {
     "ename": "TypeError",
     "evalue": "object of type 'NoneType' has no len()",
     "output_type": "error",
     "traceback": [
      "\u001b[1;31m---------------------------------------------------------------------------\u001b[0m",
      "\u001b[1;31mTypeError\u001b[0m                                 Traceback (most recent call last)",
      "\u001b[1;32m<ipython-input-21-8b18f5c280ed>\u001b[0m in \u001b[0;36m<module>\u001b[1;34m\u001b[0m\n\u001b[0;32m     11\u001b[0m \u001b[1;31m# do not change the code below\u001b[0m\u001b[1;33m\u001b[0m\u001b[1;33m\u001b[0m\u001b[1;33m\u001b[0m\u001b[0m\n\u001b[0;32m     12\u001b[0m \u001b[0mstate_census_df\u001b[0m\u001b[1;33m,\u001b[0m \u001b[0mcity_census_df\u001b[0m \u001b[1;33m=\u001b[0m \u001b[0mquestion_five\u001b[0m\u001b[1;33m(\u001b[0m\u001b[1;33m)\u001b[0m\u001b[1;33m\u001b[0m\u001b[1;33m\u001b[0m\u001b[0m\n\u001b[1;32m---> 13\u001b[1;33m \u001b[0mprint\u001b[0m\u001b[1;33m(\u001b[0m\u001b[0mlen\u001b[0m\u001b[1;33m(\u001b[0m\u001b[0mstate_census_df\u001b[0m\u001b[1;33m)\u001b[0m\u001b[1;33m,\u001b[0m \u001b[0mlen\u001b[0m\u001b[1;33m(\u001b[0m\u001b[0mcity_census_df\u001b[0m\u001b[1;33m)\u001b[0m\u001b[1;33m)\u001b[0m\u001b[1;33m\u001b[0m\u001b[1;33m\u001b[0m\u001b[0m\n\u001b[0m",
      "\u001b[1;31mTypeError\u001b[0m: object of type 'NoneType' has no len()"
     ]
    }
   ],
   "source": [
    "def question_five():\n",
    "\n",
    "    ### START CODE HERE ### (≈ 2 line of code)\n",
    "    # replace None with your code\n",
    "    state_census_df = None\n",
    "    city_census_df = None\n",
    "    \n",
    "    ### END CODE HERE ###\n",
    "    return state_census_df, city_census_df\n",
    "    \n",
    "# do not change the code below  \n",
    "state_census_df, city_census_df = question_five()\n",
    "print(len(state_census_df), len(city_census_df))"
   ]
  },
  {
   "cell_type": "markdown",
   "metadata": {},
   "source": [
    "**Expected Output**: \n",
    "<table >\n",
    "    <tr> \n",
    "        <td>51 3142</td> \n",
    "    </tr>\n",
    "</table> "
   ]
  },
  {
   "cell_type": "markdown",
   "metadata": {},
   "source": [
    "#### Question 6\n",
    "Find the total population based on 2010's census.\n",
    "\n",
    "Hint:\n",
    " - you should state_census_df saved from question 5 \n",
    " - use the column of `CENSUS2010POP` to sum up."
   ]
  },
  {
   "cell_type": "code",
   "execution_count": 22,
   "metadata": {},
   "outputs": [],
   "source": [
    "def question_six():\n",
    "\n",
    "    ### START CODE HERE ### (≈ 1 line of code)\n",
    "    # replace None with your code\n",
    "    return None\n",
    "    \n",
    "    ### END CODE HERE ###\n",
    "    \n",
    "# do not change the code below  \n",
    "question_six()"
   ]
  },
  {
   "cell_type": "markdown",
   "metadata": {},
   "source": [
    "**Expected Output**: \n",
    "<table >\n",
    "    <tr> \n",
    "        <td> 308745538</td> \n",
    "    </tr>\n",
    "</table> "
   ]
  },
  {
   "cell_type": "markdown",
   "metadata": {},
   "source": [
    "#### Question 7\n",
    " - Creates a Series called `STATEPOPCHANGE` that is defined as the percentage change between the column of  `POPESTIMATE2015` and `POPESTIMATE2010` from `state_census_df`. This series object should be added into  `state_census_df`. \n",
    " - Select the rows that have column value `STATEPOPCHANGE` > 10.0\n",
    " - return dataframe that only shows the columns of ['STNAME', 'POPESTIMATE2010','POPESTIMATE2015', 'STATEPOPCHANGE']\n"
   ]
  },
  {
   "cell_type": "code",
   "execution_count": 23,
   "metadata": {},
   "outputs": [],
   "source": [
    "pd.options.mode.chained_assignment = None  # default='warn'\n",
    "\n",
    "def question_seven():\n",
    "\n",
    "    ### START CODE HERE ### (≈ 3-5 lines of code)\n",
    "    return None\n",
    "\n",
    "    ### END CODE HERE ###\n",
    "    \n",
    "# do not change the code below  \n",
    "question_seven()"
   ]
  },
  {
   "cell_type": "markdown",
   "metadata": {},
   "source": [
    "**Expected Output**: "
   ]
  },
  {
   "cell_type": "raw",
   "metadata": {},
   "source": [
    "\t        STNAME\t      POPESTIMATE2010\tPOPESTIMATE2015\tSTATEPOPCHANGE\n",
    "---------------------------------------------------------------------------\n",
    " 327\tDistrict of Columbia\t605126\t        672228\t      11.088930\n",
    "2024\tNorth Dakota\t        674530\t        756927\t      12.215469\n",
    "--------------------------------------------------------------------------- "
   ]
  },
  {
   "cell_type": "markdown",
   "metadata": {},
   "source": [
    "#### Question 8\n",
    "\n",
    "How many **unique** county names in USA? (Hint: Use dataframe `city_census_df`)?"
   ]
  },
  {
   "cell_type": "code",
   "execution_count": 26,
   "metadata": {},
   "outputs": [],
   "source": [
    "def question_eight():\n",
    "\n",
    "    ### START CODE HERE ### (≈ 1 line of code)\n",
    "    # replace None with your code\n",
    "    return None\n",
    "    \n",
    "    ### END CODE HERE ###\n",
    "    \n",
    "# do not change the code below  \n",
    "question_eight()"
   ]
  },
  {
   "cell_type": "markdown",
   "metadata": {},
   "source": [
    "**Expected Output**: \n",
    "<table >\n",
    "    <tr> \n",
    "        <td>1877</td> \n",
    "    </tr>\n",
    "</table> "
   ]
  },
  {
   "cell_type": "markdown",
   "metadata": {},
   "source": [
    "**Note:** Questions 9-12 are related. That means, you must first your solution for Q9, then Q10, Q11 and finally Q12. Also use dataframe `city_census_df`.\n",
    "\n",
    "#### Question 9\n",
    "\n",
    "Find the most common county name in USA (i.e., having the highest number of counts in column `CTYNAME`)."
   ]
  },
  {
   "cell_type": "code",
   "execution_count": 25,
   "metadata": {},
   "outputs": [],
   "source": [
    "def question_nine():\n",
    "\n",
    "    ### START CODE HERE ### (≈ 1 line of code)\n",
    "    # replace None with your code\n",
    "    most_common_city_name = None\n",
    "    \n",
    "    ### END CODE HERE ###\n",
    "    return most_common_city_name\n",
    "\n",
    "# do not change the code below  \n",
    "most_common_city_name = question_nine()\n",
    "most_common_city_name"
   ]
  },
  {
   "cell_type": "markdown",
   "metadata": {},
   "source": [
    "**Expected Output**: \n",
    "<table >\n",
    "    <tr> \n",
    "        <td>'Washington County'</td> \n",
    "    </tr>\n",
    "</table> "
   ]
  },
  {
   "cell_type": "markdown",
   "metadata": {},
   "source": [
    "#### Question 10\n",
    "\n",
    " - Step1: Find all rows (in dataframe `city_census_df`) that have the most common county name found in question 9\n",
    " - Step2: create a new dataframe `washington_df` that stores all the rows selected from Step1, and uses the columns of 'REGION','STNAME','CTYNAME'"
   ]
  },
  {
   "cell_type": "code",
   "execution_count": 27,
   "metadata": {},
   "outputs": [],
   "source": [
    "def question_ten():\n",
    "\n",
    "    ### START CODE HERE ### (≈ 2-3 lines of code)\n",
    "    washington_df = None\n",
    "    \n",
    "    ### END CODE HERE ###\n",
    "    return washington_df\n",
    "    \n",
    "# do not change the code below  \n",
    "washington_df = question_ten()\n",
    "washington_df"
   ]
  },
  {
   "cell_type": "markdown",
   "metadata": {},
   "source": [
    "**Expected top-five lines**: "
   ]
  },
  {
   "cell_type": "raw",
   "metadata": {},
   "source": [
    "  REGION\t STNAME\t               CTYNAM\n",
    "---------------------------------------------\n",
    "65\t3\t     Alabama\t    Washington County\n",
    "186\t3\t    Arkansas\t    Washington County\n",
    "311\t4\t    Colorado\t    Washington County\n",
    "396\t3\t     Florida\t    Washington County\n",
    "547\t3\t     Georgia\t    Washington County"
   ]
  },
  {
   "cell_type": "markdown",
   "metadata": {},
   "source": [
    "#### Question 11\n",
    "\n",
    "From the dataframe `washington_df`, rename the `REGION` column values as follows:  1: \"Northeast\", 2: \"Midwest\", 3:\"South\", 4:\"West\" "
   ]
  },
  {
   "cell_type": "code",
   "execution_count": 28,
   "metadata": {},
   "outputs": [],
   "source": [
    "def question_eleven():\n",
    "\n",
    "    ### START CODE HERE ### (≈ 1-2 lines of code)\n",
    "    \n",
    "    \n",
    "    ### END CODE HERE ###\n",
    "    return  washington_df\n",
    "\n",
    "# do not change the code below  \n",
    "washington_df = question_eleven()\n",
    "washington_df"
   ]
  },
  {
   "cell_type": "markdown",
   "metadata": {},
   "source": [
    "**Expected top-five lines**: "
   ]
  },
  {
   "cell_type": "raw",
   "metadata": {},
   "source": [
    "  REGION\t STNAME\t               CTYNAM\n",
    "---------------------------------------------\n",
    "65\t3\t     Alabama\t    Washington County\n",
    "186\t3\t    Arkansas\t    Washington County\n",
    "311\t4\t    Colorado\t    Washington County\n",
    "396\t3\t     Florida\t    Washington County\n",
    "547\t3\t     Georgia\t    Washington County"
   ]
  },
  {
   "cell_type": "markdown",
   "metadata": {},
   "source": [
    "#### Question 12\n",
    "\n",
    "From the dataframe washington_df, return the value counts for each `REGION`. "
   ]
  },
  {
   "cell_type": "code",
   "execution_count": 30,
   "metadata": {},
   "outputs": [
    {
     "ename": "TypeError",
     "evalue": "'NoneType' object is not subscriptable",
     "output_type": "error",
     "traceback": [
      "\u001b[1;31m---------------------------------------------------------------------------\u001b[0m",
      "\u001b[1;31mTypeError\u001b[0m                                 Traceback (most recent call last)",
      "\u001b[1;32m<ipython-input-30-ea012ea8c891>\u001b[0m in \u001b[0;36m<module>\u001b[1;34m\u001b[0m\n\u001b[1;32m----> 1\u001b[1;33m \u001b[0mwashington_df\u001b[0m\u001b[1;33m[\u001b[0m\u001b[1;34m'REGION'\u001b[0m\u001b[1;33m]\u001b[0m\u001b[1;33m.\u001b[0m\u001b[0mvalue_counts\u001b[0m\u001b[1;33m(\u001b[0m\u001b[1;33m)\u001b[0m\u001b[1;33m\u001b[0m\u001b[1;33m\u001b[0m\u001b[0m\n\u001b[0m\u001b[0;32m      2\u001b[0m \u001b[1;33m\u001b[0m\u001b[0m\n\u001b[0;32m      3\u001b[0m \u001b[1;32mdef\u001b[0m \u001b[0mquestion_twelve\u001b[0m\u001b[1;33m(\u001b[0m\u001b[1;33m)\u001b[0m\u001b[1;33m:\u001b[0m\u001b[1;33m\u001b[0m\u001b[1;33m\u001b[0m\u001b[0m\n\u001b[0;32m      4\u001b[0m \u001b[1;33m\u001b[0m\u001b[0m\n\u001b[0;32m      5\u001b[0m     \u001b[1;31m### START CODE HERE ### (≈ 1 line of code)\u001b[0m\u001b[1;33m\u001b[0m\u001b[1;33m\u001b[0m\u001b[1;33m\u001b[0m\u001b[0m\n",
      "\u001b[1;31mTypeError\u001b[0m: 'NoneType' object is not subscriptable"
     ]
    }
   ],
   "source": [
    "washington_df['REGION'].value_counts()\n",
    "\n",
    "def question_twelve():\n",
    "\n",
    "    ### START CODE HERE ### (≈ 1 line of code)\n",
    "    # replace None with your code\n",
    "    return washington_df['REGION'].value_counts()\n",
    "    \n",
    "    ### END CODE HERE ###\n",
    "    \n",
    "# do not change the code below  \n",
    "question_twelve()"
   ]
  },
  {
   "cell_type": "markdown",
   "metadata": {},
   "source": [
    "**Expected output**: "
   ]
  },
  {
   "cell_type": "raw",
   "metadata": {},
   "source": [
    "                                        South        12\n",
    "                                        Midwest       9\n",
    "                                        Northeast     5\n",
    "                                        West          4\n",
    "                                        Name: REGION, dtype: int64"
   ]
  },
  {
   "cell_type": "code",
   "execution_count": null,
   "metadata": {},
   "outputs": [],
   "source": []
  }
 ],
 "metadata": {
  "anaconda-cloud": {},
  "coursera": {
   "course_slug": "python-data-analysis",
   "graded_item_id": "tHmgx",
   "launcher_item_id": "Um6Bz",
   "part_id": "OQsnr"
  },
  "kernelspec": {
   "display_name": "Python 3",
   "language": "python",
   "name": "python3"
  },
  "language_info": {
   "codemirror_mode": {
    "name": "ipython",
    "version": 3
   },
   "file_extension": ".py",
   "mimetype": "text/x-python",
   "name": "python",
   "nbconvert_exporter": "python",
   "pygments_lexer": "ipython3",
   "version": "3.8.5"
  },
  "umich": {
   "id": "Assignment 2",
   "version": "1.2"
  }
 },
 "nbformat": 4,
 "nbformat_minor": 1
}
