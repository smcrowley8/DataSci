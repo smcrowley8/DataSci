{
 "cells": [
  {
   "cell_type": "markdown",
   "metadata": {},
   "source": [
    "# Pandas (Part 3): Essential Functionality\n",
    "\n",
    "In this notebook, you will learn how to create the following objects:\n",
    " - Arithmetic and Data Alignment\n",
    " - Function Application and Mapping\n",
    " - Sorting\n",
    " - Descriptive statistics\n",
    " - Other useful methods\n",
    " \n",
    "Read more: \n",
    " - Python Data Analysis textbook (chapter 5) and \n",
    " - [Pandas website] (https://pandas.pydata.org/pandas-docs/stable/user_guide/dsintro.html)."
   ]
  },
  {
   "cell_type": "code",
   "execution_count": 53,
   "metadata": {},
   "outputs": [],
   "source": [
    "import pandas as pd\n",
    "import numpy as np"
   ]
  },
  {
   "cell_type": "markdown",
   "metadata": {},
   "source": [
    "### 1. Arithmetic and Data Alignment"
   ]
  },
  {
   "cell_type": "markdown",
   "metadata": {},
   "source": [
    "**between series and series object**"
   ]
  },
  {
   "cell_type": "code",
   "execution_count": 54,
   "metadata": {},
   "outputs": [
    {
     "data": {
      "text/plain": [
       "a    11\n",
       "b    22\n",
       "c    33\n",
       "d    44\n",
       "dtype: int64"
      ]
     },
     "execution_count": 54,
     "metadata": {},
     "output_type": "execute_result"
    }
   ],
   "source": [
    "ser_1 = pd.Series([1,2,3,4], index=['a', 'b', 'c', 'd'])\n",
    "ser_2 = pd.Series([10,20,30,40], index=['a', 'b', 'c', 'd'])\n",
    "\n",
    "ser_1+ser_2"
   ]
  },
  {
   "cell_type": "code",
   "execution_count": 55,
   "metadata": {},
   "outputs": [
    {
     "data": {
      "text/plain": [
       "a    11.0\n",
       "b    22.0\n",
       "c    33.0\n",
       "d    44.0\n",
       "e     NaN\n",
       "dtype: float64"
      ]
     },
     "execution_count": 55,
     "metadata": {},
     "output_type": "execute_result"
    }
   ],
   "source": [
    "ser_1 = pd.Series([1,2,3,4,5], index=['a', 'b', 'c', 'd', 'e'])\n",
    "ser_2 = pd.Series([10,20,30,40], index=['a', 'b', 'c', 'd'])\n",
    "\n",
    "ser_1+ser_2"
   ]
  },
  {
   "cell_type": "code",
   "execution_count": 56,
   "metadata": {},
   "outputs": [
    {
     "name": "stdout",
     "output_type": "stream",
     "text": [
      "   col1  col2\n",
      "a     1  10.0\n",
      "b     2  20.0\n",
      "c     3  30.0\n",
      "d     4  40.0\n",
      "e     5   NaN \n",
      "\n"
     ]
    },
    {
     "data": {
      "text/html": [
       "<div>\n",
       "<style scoped>\n",
       "    .dataframe tbody tr th:only-of-type {\n",
       "        vertical-align: middle;\n",
       "    }\n",
       "\n",
       "    .dataframe tbody tr th {\n",
       "        vertical-align: top;\n",
       "    }\n",
       "\n",
       "    .dataframe thead th {\n",
       "        text-align: right;\n",
       "    }\n",
       "</style>\n",
       "<table border=\"1\" class=\"dataframe\">\n",
       "  <thead>\n",
       "    <tr style=\"text-align: right;\">\n",
       "      <th></th>\n",
       "      <th>col1</th>\n",
       "      <th>col2</th>\n",
       "      <th>addition</th>\n",
       "      <th>subtraction</th>\n",
       "      <th>multiplication</th>\n",
       "      <th>devision</th>\n",
       "    </tr>\n",
       "  </thead>\n",
       "  <tbody>\n",
       "    <tr>\n",
       "      <td>a</td>\n",
       "      <td>1</td>\n",
       "      <td>10.0</td>\n",
       "      <td>11.0</td>\n",
       "      <td>-9.0</td>\n",
       "      <td>10.0</td>\n",
       "      <td>0.1</td>\n",
       "    </tr>\n",
       "    <tr>\n",
       "      <td>b</td>\n",
       "      <td>2</td>\n",
       "      <td>20.0</td>\n",
       "      <td>22.0</td>\n",
       "      <td>-18.0</td>\n",
       "      <td>40.0</td>\n",
       "      <td>0.1</td>\n",
       "    </tr>\n",
       "    <tr>\n",
       "      <td>c</td>\n",
       "      <td>3</td>\n",
       "      <td>30.0</td>\n",
       "      <td>33.0</td>\n",
       "      <td>-27.0</td>\n",
       "      <td>90.0</td>\n",
       "      <td>0.1</td>\n",
       "    </tr>\n",
       "    <tr>\n",
       "      <td>d</td>\n",
       "      <td>4</td>\n",
       "      <td>40.0</td>\n",
       "      <td>44.0</td>\n",
       "      <td>-36.0</td>\n",
       "      <td>160.0</td>\n",
       "      <td>0.1</td>\n",
       "    </tr>\n",
       "    <tr>\n",
       "      <td>e</td>\n",
       "      <td>5</td>\n",
       "      <td>NaN</td>\n",
       "      <td>NaN</td>\n",
       "      <td>NaN</td>\n",
       "      <td>NaN</td>\n",
       "      <td>NaN</td>\n",
       "    </tr>\n",
       "  </tbody>\n",
       "</table>\n",
       "</div>"
      ],
      "text/plain": [
       "   col1  col2  addition  subtraction  multiplication  devision\n",
       "a     1  10.0      11.0         -9.0            10.0       0.1\n",
       "b     2  20.0      22.0        -18.0            40.0       0.1\n",
       "c     3  30.0      33.0        -27.0            90.0       0.1\n",
       "d     4  40.0      44.0        -36.0           160.0       0.1\n",
       "e     5   NaN       NaN          NaN             NaN       NaN"
      ]
     },
     "execution_count": 56,
     "metadata": {},
     "output_type": "execute_result"
    }
   ],
   "source": [
    "df = pd.DataFrame({'col1': ser_1, 'col2': ser_2})\n",
    "print(df,'\\n')\n",
    "\n",
    "# elementwise operation\n",
    "df['addition'] = df['col1']+df['col2']\n",
    "df['subtraction'] = df['col1']-df['col2']\n",
    "df['multiplication'] = df['col1']*df['col2']\n",
    "df['devision'] = df['col1']/df['col2']\n",
    "df"
   ]
  },
  {
   "cell_type": "markdown",
   "metadata": {},
   "source": [
    "**between dataframe and series object**\n",
    "\n",
    "The default behavior is to align the index of the series with the column index of the dataframe and \n",
    "perform the operations between each row and the series."
   ]
  },
  {
   "cell_type": "code",
   "execution_count": 57,
   "metadata": {},
   "outputs": [
    {
     "name": "stdout",
     "output_type": "stream",
     "text": [
      "   col1  col2\n",
      "a     1  10.0\n",
      "b     2  20.0\n",
      "c     3  30.0\n",
      "d     4  40.0\n",
      "e     5   NaN \n",
      "\n",
      "col1     1.0\n",
      "col2    10.0\n",
      "Name: a, dtype: float64 \n",
      "\n",
      "   col1  col2\n",
      "a   0.0   0.0\n",
      "b   1.0  10.0\n",
      "c   2.0  20.0\n",
      "d   3.0  30.0\n",
      "e   4.0   NaN \n",
      "\n"
     ]
    }
   ],
   "source": [
    "df = pd.DataFrame({'col1': ser_1, 'col2': ser_2})\n",
    "\n",
    "# subtract the whole dataframe from the first row\n",
    "print(df, '\\n')\n",
    "print(df.iloc[0],'\\n')\n",
    "print(df-df.iloc[0],'\\n')"
   ]
  },
  {
   "cell_type": "markdown",
   "metadata": {},
   "source": [
    "If you would instead like to operate column-wise, you can use the object methods, while specifying the axis keyword"
   ]
  },
  {
   "cell_type": "code",
   "execution_count": 58,
   "metadata": {},
   "outputs": [
    {
     "name": "stdout",
     "output_type": "stream",
     "text": [
      "   col1  col2\n",
      "a     1  10.0\n",
      "b     2  20.0\n",
      "c     3  30.0\n",
      "d     4  40.0\n",
      "e     5   NaN \n",
      "\n",
      "a    1\n",
      "b    2\n",
      "c    3\n",
      "d    4\n",
      "e    5\n",
      "Name: col1, dtype: int64 \n",
      "\n"
     ]
    },
    {
     "data": {
      "text/html": [
       "<div>\n",
       "<style scoped>\n",
       "    .dataframe tbody tr th:only-of-type {\n",
       "        vertical-align: middle;\n",
       "    }\n",
       "\n",
       "    .dataframe tbody tr th {\n",
       "        vertical-align: top;\n",
       "    }\n",
       "\n",
       "    .dataframe thead th {\n",
       "        text-align: right;\n",
       "    }\n",
       "</style>\n",
       "<table border=\"1\" class=\"dataframe\">\n",
       "  <thead>\n",
       "    <tr style=\"text-align: right;\">\n",
       "      <th></th>\n",
       "      <th>col1</th>\n",
       "      <th>col2</th>\n",
       "    </tr>\n",
       "  </thead>\n",
       "  <tbody>\n",
       "    <tr>\n",
       "      <td>a</td>\n",
       "      <td>0</td>\n",
       "      <td>9.0</td>\n",
       "    </tr>\n",
       "    <tr>\n",
       "      <td>b</td>\n",
       "      <td>0</td>\n",
       "      <td>18.0</td>\n",
       "    </tr>\n",
       "    <tr>\n",
       "      <td>c</td>\n",
       "      <td>0</td>\n",
       "      <td>27.0</td>\n",
       "    </tr>\n",
       "    <tr>\n",
       "      <td>d</td>\n",
       "      <td>0</td>\n",
       "      <td>36.0</td>\n",
       "    </tr>\n",
       "    <tr>\n",
       "      <td>e</td>\n",
       "      <td>0</td>\n",
       "      <td>NaN</td>\n",
       "    </tr>\n",
       "  </tbody>\n",
       "</table>\n",
       "</div>"
      ],
      "text/plain": [
       "   col1  col2\n",
       "a     0   9.0\n",
       "b     0  18.0\n",
       "c     0  27.0\n",
       "d     0  36.0\n",
       "e     0   NaN"
      ]
     },
     "execution_count": 58,
     "metadata": {},
     "output_type": "execute_result"
    }
   ],
   "source": [
    "print(df, '\\n')\n",
    "print(df['col1'],'\\n')\n",
    "df.subtract(df['col1'],axis=0) # {0 or ‘index’, 1 or ‘columns’}"
   ]
  },
  {
   "cell_type": "code",
   "execution_count": 59,
   "metadata": {},
   "outputs": [
    {
     "data": {
      "text/html": [
       "<div>\n",
       "<style scoped>\n",
       "    .dataframe tbody tr th:only-of-type {\n",
       "        vertical-align: middle;\n",
       "    }\n",
       "\n",
       "    .dataframe tbody tr th {\n",
       "        vertical-align: top;\n",
       "    }\n",
       "\n",
       "    .dataframe thead th {\n",
       "        text-align: right;\n",
       "    }\n",
       "</style>\n",
       "<table border=\"1\" class=\"dataframe\">\n",
       "  <thead>\n",
       "    <tr style=\"text-align: right;\">\n",
       "      <th></th>\n",
       "      <th>col1</th>\n",
       "      <th>col2</th>\n",
       "    </tr>\n",
       "  </thead>\n",
       "  <tbody>\n",
       "    <tr>\n",
       "      <td>a</td>\n",
       "      <td>0</td>\n",
       "      <td>9.0</td>\n",
       "    </tr>\n",
       "    <tr>\n",
       "      <td>b</td>\n",
       "      <td>0</td>\n",
       "      <td>18.0</td>\n",
       "    </tr>\n",
       "    <tr>\n",
       "      <td>c</td>\n",
       "      <td>0</td>\n",
       "      <td>27.0</td>\n",
       "    </tr>\n",
       "    <tr>\n",
       "      <td>d</td>\n",
       "      <td>0</td>\n",
       "      <td>36.0</td>\n",
       "    </tr>\n",
       "    <tr>\n",
       "      <td>e</td>\n",
       "      <td>0</td>\n",
       "      <td>NaN</td>\n",
       "    </tr>\n",
       "  </tbody>\n",
       "</table>\n",
       "</div>"
      ],
      "text/plain": [
       "   col1  col2\n",
       "a     0   9.0\n",
       "b     0  18.0\n",
       "c     0  27.0\n",
       "d     0  36.0\n",
       "e     0   NaN"
      ]
     },
     "execution_count": 59,
     "metadata": {},
     "output_type": "execute_result"
    }
   ],
   "source": [
    "df=df.apply(lambda x: x-df['col1'], axis=0)\n",
    "df"
   ]
  },
  {
   "cell_type": "markdown",
   "metadata": {},
   "source": [
    "**between dataframe and dataframe object**"
   ]
  },
  {
   "cell_type": "code",
   "execution_count": 60,
   "metadata": {},
   "outputs": [
    {
     "name": "stdout",
     "output_type": "stream",
     "text": [
      "     a   b   c   d\n",
      "Fi   1   2   3   4\n",
      "Se   5   6   7   8\n",
      "Th   9  10  11  12\n",
      "Fo  13  14  15  16 \n",
      "\n",
      "      a    b    c    d\n",
      "Fi   10   20   30   40\n",
      "Se   50   60   70   80\n",
      "Th   90  100  110  120\n",
      "Fo  130  140  150  160 \n",
      "\n"
     ]
    }
   ],
   "source": [
    "df_1 = pd.DataFrame(np.arange(1,17).reshape(4,4),\n",
    "                    index= ['Fi', 'Se', 'Th', 'Fo'],\n",
    "                    columns = ['a', 'b', 'c', 'd'])\n",
    "\n",
    "df_2 = pd.DataFrame(np.arange(1,17).reshape(4,4) * 10,\n",
    "                    index= ['Fi', 'Se', 'Th', 'Fo'],\n",
    "                    columns = ['a', 'b', 'c', 'd'])\n",
    "print(df_1,'\\n')\n",
    "print(df_2, '\\n')"
   ]
  },
  {
   "cell_type": "code",
   "execution_count": null,
   "metadata": {},
   "outputs": [],
   "source": []
  },
  {
   "cell_type": "code",
   "execution_count": 61,
   "metadata": {},
   "outputs": [
    {
     "data": {
      "text/html": [
       "<div>\n",
       "<style scoped>\n",
       "    .dataframe tbody tr th:only-of-type {\n",
       "        vertical-align: middle;\n",
       "    }\n",
       "\n",
       "    .dataframe tbody tr th {\n",
       "        vertical-align: top;\n",
       "    }\n",
       "\n",
       "    .dataframe thead th {\n",
       "        text-align: right;\n",
       "    }\n",
       "</style>\n",
       "<table border=\"1\" class=\"dataframe\">\n",
       "  <thead>\n",
       "    <tr style=\"text-align: right;\">\n",
       "      <th></th>\n",
       "      <th>a</th>\n",
       "      <th>b</th>\n",
       "      <th>c</th>\n",
       "      <th>d</th>\n",
       "    </tr>\n",
       "  </thead>\n",
       "  <tbody>\n",
       "    <tr>\n",
       "      <td>Fi</td>\n",
       "      <td>11</td>\n",
       "      <td>22</td>\n",
       "      <td>33</td>\n",
       "      <td>44</td>\n",
       "    </tr>\n",
       "    <tr>\n",
       "      <td>Se</td>\n",
       "      <td>55</td>\n",
       "      <td>66</td>\n",
       "      <td>77</td>\n",
       "      <td>88</td>\n",
       "    </tr>\n",
       "    <tr>\n",
       "      <td>Th</td>\n",
       "      <td>99</td>\n",
       "      <td>110</td>\n",
       "      <td>121</td>\n",
       "      <td>132</td>\n",
       "    </tr>\n",
       "    <tr>\n",
       "      <td>Fo</td>\n",
       "      <td>143</td>\n",
       "      <td>154</td>\n",
       "      <td>165</td>\n",
       "      <td>176</td>\n",
       "    </tr>\n",
       "  </tbody>\n",
       "</table>\n",
       "</div>"
      ],
      "text/plain": [
       "      a    b    c    d\n",
       "Fi   11   22   33   44\n",
       "Se   55   66   77   88\n",
       "Th   99  110  121  132\n",
       "Fo  143  154  165  176"
      ]
     },
     "execution_count": 61,
     "metadata": {},
     "output_type": "execute_result"
    }
   ],
   "source": [
    "df_1+df_2"
   ]
  },
  {
   "cell_type": "code",
   "execution_count": 62,
   "metadata": {},
   "outputs": [
    {
     "data": {
      "text/html": [
       "<div>\n",
       "<style scoped>\n",
       "    .dataframe tbody tr th:only-of-type {\n",
       "        vertical-align: middle;\n",
       "    }\n",
       "\n",
       "    .dataframe tbody tr th {\n",
       "        vertical-align: top;\n",
       "    }\n",
       "\n",
       "    .dataframe thead th {\n",
       "        text-align: right;\n",
       "    }\n",
       "</style>\n",
       "<table border=\"1\" class=\"dataframe\">\n",
       "  <thead>\n",
       "    <tr style=\"text-align: right;\">\n",
       "      <th></th>\n",
       "      <th>a</th>\n",
       "      <th>b</th>\n",
       "      <th>c</th>\n",
       "      <th>d</th>\n",
       "    </tr>\n",
       "  </thead>\n",
       "  <tbody>\n",
       "    <tr>\n",
       "      <td>Fi</td>\n",
       "      <td>-9</td>\n",
       "      <td>-18</td>\n",
       "      <td>-27</td>\n",
       "      <td>-36</td>\n",
       "    </tr>\n",
       "    <tr>\n",
       "      <td>Se</td>\n",
       "      <td>-45</td>\n",
       "      <td>-54</td>\n",
       "      <td>-63</td>\n",
       "      <td>-72</td>\n",
       "    </tr>\n",
       "    <tr>\n",
       "      <td>Th</td>\n",
       "      <td>-81</td>\n",
       "      <td>-90</td>\n",
       "      <td>-99</td>\n",
       "      <td>-108</td>\n",
       "    </tr>\n",
       "    <tr>\n",
       "      <td>Fo</td>\n",
       "      <td>-117</td>\n",
       "      <td>-126</td>\n",
       "      <td>-135</td>\n",
       "      <td>-144</td>\n",
       "    </tr>\n",
       "  </tbody>\n",
       "</table>\n",
       "</div>"
      ],
      "text/plain": [
       "      a    b    c    d\n",
       "Fi   -9  -18  -27  -36\n",
       "Se  -45  -54  -63  -72\n",
       "Th  -81  -90  -99 -108\n",
       "Fo -117 -126 -135 -144"
      ]
     },
     "execution_count": 62,
     "metadata": {},
     "output_type": "execute_result"
    }
   ],
   "source": [
    "df_1-df_2"
   ]
  },
  {
   "cell_type": "markdown",
   "metadata": {},
   "source": [
    "### 2. Function Application and Mapping\n",
    "\n",
    "\n",
    "**DataFrame.apply(func, axis=0)**\n",
    "\n",
    " - Apply a function along an axis of the DataFrame.\n",
    " - Objects passed to the function are Series objects whose index is either the DataFrame’s index (axis=0) or the DataFrame’s columns (axis=1)."
   ]
  },
  {
   "cell_type": "code",
   "execution_count": 63,
   "metadata": {
    "scrolled": true
   },
   "outputs": [
    {
     "name": "stdout",
     "output_type": "stream",
     "text": [
      "   A  B\n",
      "0  4  9\n",
      "1  4  9\n",
      "2  4  9 \n",
      "\n",
      "     A    B\n",
      "0  2.0  3.0\n",
      "1  2.0  3.0\n",
      "2  2.0  3.0 \n",
      "\n",
      "     A    B\n",
      "0  2.0  3.0\n",
      "1  2.0  3.0\n",
      "2  2.0  3.0 \n",
      "\n",
      "     A    B\n",
      "0  2.0  3.0\n",
      "1  2.0  3.0\n",
      "2  2.0  3.0\n"
     ]
    }
   ],
   "source": [
    "df = pd.DataFrame([[4, 9]] * 3, columns=['A', 'B'])\n",
    "\n",
    "print(df, '\\n')\n",
    "print(df.apply(np.sqrt),'\\n')\n",
    "print(df.apply(np.sqrt, axis=0),'\\n')\n",
    "print(df.apply(np.sqrt, axis=1))"
   ]
  },
  {
   "cell_type": "code",
   "execution_count": 64,
   "metadata": {},
   "outputs": [
    {
     "name": "stdout",
     "output_type": "stream",
     "text": [
      "   A  B\n",
      "0  4  9\n",
      "1  4  9\n",
      "2  4  9 \n",
      "\n",
      "A    12\n",
      "B    27\n",
      "dtype: int64 \n",
      "\n",
      "0    13\n",
      "1    13\n",
      "2    13\n",
      "dtype: int64\n"
     ]
    }
   ],
   "source": [
    "print(df, '\\n')\n",
    "print(df.apply(np.sum, axis=0),'\\n')\n",
    "print(df.apply(np.sum, axis=1))"
   ]
  },
  {
   "cell_type": "code",
   "execution_count": 65,
   "metadata": {},
   "outputs": [
    {
     "name": "stdout",
     "output_type": "stream",
     "text": [
      "   A  B\n",
      "0  4  9\n",
      "1  4  9\n",
      "2  4  9 \n",
      "\n",
      "A    [1, 2]\n",
      "B    [1, 2]\n",
      "dtype: object \n",
      "\n",
      "0    [1, 2]\n",
      "1    [1, 2]\n",
      "2    [1, 2]\n",
      "dtype: object\n"
     ]
    }
   ],
   "source": [
    "print(df, '\\n')\n",
    "print(df.apply(lambda x: [1, 2], axis=0),'\\n')\n",
    "print(df.apply(lambda x: [1, 2], axis=1))"
   ]
  },
  {
   "cell_type": "code",
   "execution_count": 95,
   "metadata": {},
   "outputs": [],
   "source": [
    "frame = pd.DataFrame(np.random.randn(4, 3), columns=list('bde'),\n",
    "                     index=['Utah', 'Ohio', 'Texas', 'Oregon'])\n",
    "frame = np.abs(frame)"
   ]
  },
  {
   "cell_type": "code",
   "execution_count": 98,
   "metadata": {},
   "outputs": [
    {
     "name": "stdout",
     "output_type": "stream",
     "text": [
      "               b         d         e\n",
      "Utah    0.242654  0.618637  1.092771\n",
      "Ohio    0.100004  0.750184  1.985751\n",
      "Texas   0.719892  0.210842  0.376385\n",
      "Oregon  1.760535  0.448075  0.786428 \n",
      "\n",
      "b    1.660531\n",
      "d    0.539343\n",
      "e    1.609366\n",
      "dtype: float64 \n",
      "\n",
      "Utah      0.850116\n",
      "Ohio      1.885747\n",
      "Texas     0.509051\n",
      "Oregon    1.312460\n",
      "dtype: float64 \n",
      "\n"
     ]
    }
   ],
   "source": [
    "print(frame,'\\n')\n",
    "\n",
    "# the difference b/w max-min for each column (for default), or row (axis=1)\n",
    "print(frame.apply(lambda x: x.max() - x.min(), axis=0),'\\n') # along row axis (each column)\n",
    "print(frame.apply(lambda x: x.max() - x.min(), axis=1),'\\n') # along column axis (each row)"
   ]
  },
  {
   "cell_type": "code",
   "execution_count": 103,
   "metadata": {},
   "outputs": [
    {
     "name": "stdout",
     "output_type": "stream",
     "text": [
      "               b         d         e\n",
      "Utah    0.242654  0.618637  1.092771\n",
      "Ohio    0.100004  0.750184  1.985751\n",
      "Texas   0.719892  0.210842  0.376385\n",
      "Oregon  1.760535  0.448075  0.786428 \n",
      "\n",
      "            b         d         e\n",
      "min  0.100004  0.210842  0.376385\n",
      "max  1.760535  0.750184  1.985751 \n",
      "\n",
      "             min       max\n",
      "Utah    0.242654  1.092771\n",
      "Ohio    0.100004  1.985751\n",
      "Texas   0.210842  0.719892\n",
      "Oregon  0.448075  1.760535 \n",
      "\n"
     ]
    }
   ],
   "source": [
    "print(frame,'\\n')\n",
    "\n",
    "# given an input row or column,\n",
    "# find (min, max) \n",
    "# return the pair with a seris object\n",
    "def f(x):\n",
    "    return pd.Series([x.min(), x.max()], index=['min', 'max'])\n",
    "\n",
    "print(frame.apply(f, axis=0), '\\n')         # along row axis (each column)\n",
    "print(frame.apply(f, axis=1),'\\n')          # along column axis (each row)"
   ]
  },
  {
   "cell_type": "markdown",
   "metadata": {},
   "source": [
    "**DataFrame.applymap()**:\n",
    "Apply a function to a Dataframe elementwise.\n",
    "\n",
    "This method applies a function that accepts and returns a scalar to every element of a DataFrame."
   ]
  },
  {
   "cell_type": "code",
   "execution_count": 114,
   "metadata": {},
   "outputs": [
    {
     "name": "stdout",
     "output_type": "stream",
     "text": [
      "               b         d         e\n",
      "Utah    0.242654  0.618637  1.092771\n",
      "Ohio    0.100004  0.750184  1.985751\n",
      "Texas   0.719892  0.210842  0.376385\n",
      "Oregon  1.760535  0.448075  0.786428 \n",
      "\n",
      "           b     d     e\n",
      "Utah    0.24  0.62  1.09\n",
      "Ohio    0.10  0.75  1.99\n",
      "Texas   0.72  0.21  0.38\n",
      "Oregon  1.76  0.45  0.79 \n",
      "\n"
     ]
    }
   ],
   "source": [
    "print(frame,'\\n')\n",
    "print(frame.applymap(lambda x: '%.2f' % x),'\\n')"
   ]
  },
  {
   "cell_type": "markdown",
   "metadata": {},
   "source": [
    "**Series.map()**: Map values of Series according to input correspondence.\n",
    "\n",
    "Used for substituting each value in a Series with another value, that may be derived from a function, a dict or a Series."
   ]
  },
  {
   "cell_type": "code",
   "execution_count": 110,
   "metadata": {},
   "outputs": [
    {
     "data": {
      "text/plain": [
       "Utah      1.09\n",
       "Ohio      1.99\n",
       "Texas     0.38\n",
       "Oregon    0.79\n",
       "Name: e, dtype: object"
      ]
     },
     "execution_count": 110,
     "metadata": {},
     "output_type": "execute_result"
    }
   ],
   "source": [
    "frame['e'].map(lambda x: '%.2f' % x)"
   ]
  },
  {
   "cell_type": "markdown",
   "metadata": {},
   "source": [
    "### 3. Sorting"
   ]
  },
  {
   "cell_type": "code",
   "execution_count": 71,
   "metadata": {},
   "outputs": [
    {
     "data": {
      "text/plain": [
       "a    1\n",
       "b    2\n",
       "c    3\n",
       "d    0\n",
       "dtype: int64"
      ]
     },
     "execution_count": 71,
     "metadata": {},
     "output_type": "execute_result"
    }
   ],
   "source": [
    "obj = pd.Series(range(4), index=['d', 'a', 'b', 'c'])\n",
    "obj.sort_index()"
   ]
  },
  {
   "cell_type": "code",
   "execution_count": 72,
   "metadata": {},
   "outputs": [
    {
     "name": "stdout",
     "output_type": "stream",
     "text": [
      "       d  a  b  c\n",
      "three  0  1  2  3\n",
      "one    4  5  6  7 \n",
      "\n",
      "       d  a  b  c\n",
      "one    4  5  6  7\n",
      "three  0  1  2  3 \n",
      "\n",
      "       a  b  c  d\n",
      "three  1  2  3  0\n",
      "one    5  6  7  4\n"
     ]
    }
   ],
   "source": [
    "frame = pd.DataFrame(np.arange(8).reshape((2, 4)),\n",
    "                     index=['three', 'one'],\n",
    "                     columns=['d', 'a', 'b', 'c'])\n",
    "\n",
    "print(frame, \"\\n\") \n",
    "print(frame.sort_index(), \"\\n\")                    # default sort on rows (row index based)\n",
    "print(frame.sort_index(axis='columns'))            # specify axis =1 or 'columns'   "
   ]
  },
  {
   "cell_type": "code",
   "execution_count": 73,
   "metadata": {},
   "outputs": [
    {
     "data": {
      "text/html": [
       "<div>\n",
       "<style scoped>\n",
       "    .dataframe tbody tr th:only-of-type {\n",
       "        vertical-align: middle;\n",
       "    }\n",
       "\n",
       "    .dataframe tbody tr th {\n",
       "        vertical-align: top;\n",
       "    }\n",
       "\n",
       "    .dataframe thead th {\n",
       "        text-align: right;\n",
       "    }\n",
       "</style>\n",
       "<table border=\"1\" class=\"dataframe\">\n",
       "  <thead>\n",
       "    <tr style=\"text-align: right;\">\n",
       "      <th></th>\n",
       "      <th>d</th>\n",
       "      <th>c</th>\n",
       "      <th>b</th>\n",
       "      <th>a</th>\n",
       "    </tr>\n",
       "  </thead>\n",
       "  <tbody>\n",
       "    <tr>\n",
       "      <td>three</td>\n",
       "      <td>0</td>\n",
       "      <td>3</td>\n",
       "      <td>2</td>\n",
       "      <td>1</td>\n",
       "    </tr>\n",
       "    <tr>\n",
       "      <td>one</td>\n",
       "      <td>4</td>\n",
       "      <td>7</td>\n",
       "      <td>6</td>\n",
       "      <td>5</td>\n",
       "    </tr>\n",
       "  </tbody>\n",
       "</table>\n",
       "</div>"
      ],
      "text/plain": [
       "       d  c  b  a\n",
       "three  0  3  2  1\n",
       "one    4  7  6  5"
      ]
     },
     "execution_count": 73,
     "metadata": {},
     "output_type": "execute_result"
    }
   ],
   "source": [
    "frame.sort_index(axis=1, ascending=False)"
   ]
  },
  {
   "cell_type": "code",
   "execution_count": 74,
   "metadata": {},
   "outputs": [],
   "source": [
    "#pd.DataFrame.sort_values?"
   ]
  },
  {
   "cell_type": "code",
   "execution_count": 75,
   "metadata": {},
   "outputs": [
    {
     "data": {
      "text/plain": [
       "2   -3\n",
       "3    2\n",
       "0    4\n",
       "1    7\n",
       "dtype: int64"
      ]
     },
     "execution_count": 75,
     "metadata": {},
     "output_type": "execute_result"
    }
   ],
   "source": [
    "obj = pd.Series([4, 7, -3, 2])\n",
    "obj.sort_values()"
   ]
  },
  {
   "cell_type": "code",
   "execution_count": 76,
   "metadata": {},
   "outputs": [
    {
     "data": {
      "text/plain": [
       "4   -3.0\n",
       "5    2.0\n",
       "0    4.0\n",
       "2    7.0\n",
       "1    NaN\n",
       "3    NaN\n",
       "dtype: float64"
      ]
     },
     "execution_count": 76,
     "metadata": {},
     "output_type": "execute_result"
    }
   ],
   "source": [
    "obj = pd.Series([4, np.nan, 7, np.nan, -3, 2])\n",
    "obj.sort_values()"
   ]
  },
  {
   "cell_type": "code",
   "execution_count": 77,
   "metadata": {},
   "outputs": [
    {
     "data": {
      "text/html": [
       "<div>\n",
       "<style scoped>\n",
       "    .dataframe tbody tr th:only-of-type {\n",
       "        vertical-align: middle;\n",
       "    }\n",
       "\n",
       "    .dataframe tbody tr th {\n",
       "        vertical-align: top;\n",
       "    }\n",
       "\n",
       "    .dataframe thead th {\n",
       "        text-align: right;\n",
       "    }\n",
       "</style>\n",
       "<table border=\"1\" class=\"dataframe\">\n",
       "  <thead>\n",
       "    <tr style=\"text-align: right;\">\n",
       "      <th></th>\n",
       "      <th>b</th>\n",
       "      <th>a</th>\n",
       "    </tr>\n",
       "  </thead>\n",
       "  <tbody>\n",
       "    <tr>\n",
       "      <td>2</td>\n",
       "      <td>-3</td>\n",
       "      <td>0</td>\n",
       "    </tr>\n",
       "    <tr>\n",
       "      <td>3</td>\n",
       "      <td>2</td>\n",
       "      <td>1</td>\n",
       "    </tr>\n",
       "    <tr>\n",
       "      <td>0</td>\n",
       "      <td>4</td>\n",
       "      <td>0</td>\n",
       "    </tr>\n",
       "    <tr>\n",
       "      <td>1</td>\n",
       "      <td>7</td>\n",
       "      <td>1</td>\n",
       "    </tr>\n",
       "  </tbody>\n",
       "</table>\n",
       "</div>"
      ],
      "text/plain": [
       "   b  a\n",
       "2 -3  0\n",
       "3  2  1\n",
       "0  4  0\n",
       "1  7  1"
      ]
     },
     "execution_count": 77,
     "metadata": {},
     "output_type": "execute_result"
    }
   ],
   "source": [
    "frame = pd.DataFrame({'b': [4, 7, -3, 2], 'a': [0, 1, 0, 1]})\n",
    "frame\n",
    "frame.sort_values(by='b')             # sort by column name   "
   ]
  },
  {
   "cell_type": "code",
   "execution_count": 78,
   "metadata": {},
   "outputs": [
    {
     "data": {
      "text/html": [
       "<div>\n",
       "<style scoped>\n",
       "    .dataframe tbody tr th:only-of-type {\n",
       "        vertical-align: middle;\n",
       "    }\n",
       "\n",
       "    .dataframe tbody tr th {\n",
       "        vertical-align: top;\n",
       "    }\n",
       "\n",
       "    .dataframe thead th {\n",
       "        text-align: right;\n",
       "    }\n",
       "</style>\n",
       "<table border=\"1\" class=\"dataframe\">\n",
       "  <thead>\n",
       "    <tr style=\"text-align: right;\">\n",
       "      <th></th>\n",
       "      <th>b</th>\n",
       "      <th>a</th>\n",
       "    </tr>\n",
       "  </thead>\n",
       "  <tbody>\n",
       "    <tr>\n",
       "      <td>2</td>\n",
       "      <td>-3</td>\n",
       "      <td>0</td>\n",
       "    </tr>\n",
       "    <tr>\n",
       "      <td>0</td>\n",
       "      <td>4</td>\n",
       "      <td>0</td>\n",
       "    </tr>\n",
       "    <tr>\n",
       "      <td>3</td>\n",
       "      <td>2</td>\n",
       "      <td>1</td>\n",
       "    </tr>\n",
       "    <tr>\n",
       "      <td>1</td>\n",
       "      <td>7</td>\n",
       "      <td>1</td>\n",
       "    </tr>\n",
       "  </tbody>\n",
       "</table>\n",
       "</div>"
      ],
      "text/plain": [
       "   b  a\n",
       "2 -3  0\n",
       "0  4  0\n",
       "3  2  1\n",
       "1  7  1"
      ]
     },
     "execution_count": 78,
     "metadata": {},
     "output_type": "execute_result"
    }
   ],
   "source": [
    "#multiple level sort\n",
    "frame.sort_values(by=['a', 'b'])"
   ]
  },
  {
   "cell_type": "markdown",
   "metadata": {},
   "source": [
    "### 4. Descriptive Statistics"
   ]
  },
  {
   "cell_type": "code",
   "execution_count": 79,
   "metadata": {},
   "outputs": [
    {
     "data": {
      "text/html": [
       "<div>\n",
       "<style scoped>\n",
       "    .dataframe tbody tr th:only-of-type {\n",
       "        vertical-align: middle;\n",
       "    }\n",
       "\n",
       "    .dataframe tbody tr th {\n",
       "        vertical-align: top;\n",
       "    }\n",
       "\n",
       "    .dataframe thead th {\n",
       "        text-align: right;\n",
       "    }\n",
       "</style>\n",
       "<table border=\"1\" class=\"dataframe\">\n",
       "  <thead>\n",
       "    <tr style=\"text-align: right;\">\n",
       "      <th></th>\n",
       "      <th>one</th>\n",
       "      <th>two</th>\n",
       "    </tr>\n",
       "  </thead>\n",
       "  <tbody>\n",
       "    <tr>\n",
       "      <td>a</td>\n",
       "      <td>1.40</td>\n",
       "      <td>NaN</td>\n",
       "    </tr>\n",
       "    <tr>\n",
       "      <td>b</td>\n",
       "      <td>7.10</td>\n",
       "      <td>-4.5</td>\n",
       "    </tr>\n",
       "    <tr>\n",
       "      <td>c</td>\n",
       "      <td>NaN</td>\n",
       "      <td>NaN</td>\n",
       "    </tr>\n",
       "    <tr>\n",
       "      <td>d</td>\n",
       "      <td>0.75</td>\n",
       "      <td>-1.3</td>\n",
       "    </tr>\n",
       "  </tbody>\n",
       "</table>\n",
       "</div>"
      ],
      "text/plain": [
       "    one  two\n",
       "a  1.40  NaN\n",
       "b  7.10 -4.5\n",
       "c   NaN  NaN\n",
       "d  0.75 -1.3"
      ]
     },
     "execution_count": 79,
     "metadata": {},
     "output_type": "execute_result"
    }
   ],
   "source": [
    "df = pd.DataFrame([[1.4, np.nan], [7.1, -4.5], [np.nan, np.nan], [0.75, -1.3]],\n",
    "                  index=['a', 'b', 'c', 'd'], columns=['one', 'two'])\n",
    "df"
   ]
  },
  {
   "cell_type": "code",
   "execution_count": 80,
   "metadata": {},
   "outputs": [
    {
     "name": "stdout",
     "output_type": "stream",
     "text": [
      "    one  two\n",
      "a  1.40  NaN\n",
      "b  7.10 -4.5\n",
      "c   NaN  NaN\n",
      "d  0.75 -1.3 \n",
      "\n",
      "one    9.25\n",
      "two   -5.80\n",
      "dtype: float64 \n",
      "\n",
      "a    1.40\n",
      "b    2.60\n",
      "c    0.00\n",
      "d   -0.55\n",
      "dtype: float64 \n",
      "\n"
     ]
    }
   ],
   "source": [
    "print (df,'\\n') \n",
    "print (df.sum(),'\\n')                          # sum along the rows     (different with numpy.sum)\n",
    "print (df.sum(axis='columns'),'\\n')            # sum along the columns   treat NaN as 0"
   ]
  },
  {
   "cell_type": "code",
   "execution_count": 81,
   "metadata": {},
   "outputs": [
    {
     "name": "stdout",
     "output_type": "stream",
     "text": [
      "    one  two\n",
      "a  1.40  NaN\n",
      "b  7.10 -4.5\n",
      "c   NaN  NaN\n",
      "d  0.75 -1.3 \n",
      "\n",
      "one    3.083333\n",
      "two   -2.900000\n",
      "dtype: float64 \n",
      "\n",
      "a    1.400\n",
      "b    1.300\n",
      "c      NaN\n",
      "d   -0.275\n",
      "dtype: float64 \n",
      "\n",
      "a      NaN\n",
      "b    1.300\n",
      "c      NaN\n",
      "d   -0.275\n",
      "dtype: float64\n"
     ]
    }
   ],
   "source": [
    "print (df,'\\n') \n",
    "print(df.mean(),'\\n')                           # along the rows\n",
    "print(df.mean(axis='columns'),'\\n')             # along the columns \n",
    "print(df.mean(axis='columns', skipna=False))    # along the columns and not skipping NaN"
   ]
  },
  {
   "cell_type": "code",
   "execution_count": 82,
   "metadata": {},
   "outputs": [
    {
     "name": "stdout",
     "output_type": "stream",
     "text": [
      "    one  two\n",
      "a  1.40  NaN\n",
      "b  7.10 -4.5\n",
      "c   NaN  NaN\n",
      "d  0.75 -1.3 \n",
      "\n",
      "one    7.1\n",
      "two   -1.3\n",
      "dtype: float64 \n",
      "\n",
      "a    1.40\n",
      "b    7.10\n",
      "c     NaN\n",
      "d    0.75\n",
      "dtype: float64 \n",
      "\n",
      "a     NaN\n",
      "b    7.10\n",
      "c     NaN\n",
      "d    0.75\n",
      "dtype: float64\n"
     ]
    }
   ],
   "source": [
    "print (df,'\\n') \n",
    "print(df.max(),'\\n')                           # along the rows\n",
    "print(df.max(axis='columns'),'\\n')             # along the columns \n",
    "print(df.max(axis='columns', skipna=False))    # along the columns and not skipping NaN"
   ]
  },
  {
   "cell_type": "code",
   "execution_count": 83,
   "metadata": {},
   "outputs": [
    {
     "name": "stdout",
     "output_type": "stream",
     "text": [
      "    one  two\n",
      "a  1.40  NaN\n",
      "b  7.10 -4.5\n",
      "c   NaN  NaN\n",
      "d  0.75 -1.3 \n",
      "\n",
      "one    b\n",
      "two    d\n",
      "dtype: object \n",
      "\n",
      "a    one\n",
      "b    one\n",
      "c    NaN\n",
      "d    one\n",
      "dtype: object \n",
      "\n"
     ]
    }
   ],
   "source": [
    "#Compute index labels at which minimum or maximum value obtained, respectively\n",
    "print (df,'\\n') \n",
    "print(df.idxmax(),'\\n') \n",
    "print(df.idxmax(axis='columns'),'\\n') "
   ]
  },
  {
   "cell_type": "code",
   "execution_count": 84,
   "metadata": {},
   "outputs": [
    {
     "name": "stdout",
     "output_type": "stream",
     "text": [
      "    one  two\n",
      "a  1.40  NaN\n",
      "b  7.10 -4.5\n",
      "c   NaN  NaN\n",
      "d  0.75 -1.3 \n",
      "\n",
      "    one  two\n",
      "a  1.40  NaN\n",
      "b  8.50 -4.5\n",
      "c   NaN  NaN\n",
      "d  9.25 -5.8 \n",
      "\n",
      "    one   two\n",
      "a  1.40   NaN\n",
      "b  7.10  2.60\n",
      "c   NaN   NaN\n",
      "d  0.75 -0.55 \n",
      "\n"
     ]
    }
   ],
   "source": [
    "#Cumulative sum of values\n",
    "print (df,'\\n') \n",
    "print(df.cumsum(),'\\n') \n",
    "print(df.cumsum(axis='columns'),'\\n') "
   ]
  },
  {
   "cell_type": "code",
   "execution_count": 85,
   "metadata": {},
   "outputs": [
    {
     "data": {
      "text/html": [
       "<div>\n",
       "<style scoped>\n",
       "    .dataframe tbody tr th:only-of-type {\n",
       "        vertical-align: middle;\n",
       "    }\n",
       "\n",
       "    .dataframe tbody tr th {\n",
       "        vertical-align: top;\n",
       "    }\n",
       "\n",
       "    .dataframe thead th {\n",
       "        text-align: right;\n",
       "    }\n",
       "</style>\n",
       "<table border=\"1\" class=\"dataframe\">\n",
       "  <thead>\n",
       "    <tr style=\"text-align: right;\">\n",
       "      <th></th>\n",
       "      <th>one</th>\n",
       "      <th>two</th>\n",
       "    </tr>\n",
       "  </thead>\n",
       "  <tbody>\n",
       "    <tr>\n",
       "      <td>count</td>\n",
       "      <td>3.000000</td>\n",
       "      <td>2.000000</td>\n",
       "    </tr>\n",
       "    <tr>\n",
       "      <td>mean</td>\n",
       "      <td>3.083333</td>\n",
       "      <td>-2.900000</td>\n",
       "    </tr>\n",
       "    <tr>\n",
       "      <td>std</td>\n",
       "      <td>3.493685</td>\n",
       "      <td>2.262742</td>\n",
       "    </tr>\n",
       "    <tr>\n",
       "      <td>min</td>\n",
       "      <td>0.750000</td>\n",
       "      <td>-4.500000</td>\n",
       "    </tr>\n",
       "    <tr>\n",
       "      <td>25%</td>\n",
       "      <td>1.075000</td>\n",
       "      <td>-3.700000</td>\n",
       "    </tr>\n",
       "    <tr>\n",
       "      <td>50%</td>\n",
       "      <td>1.400000</td>\n",
       "      <td>-2.900000</td>\n",
       "    </tr>\n",
       "    <tr>\n",
       "      <td>75%</td>\n",
       "      <td>4.250000</td>\n",
       "      <td>-2.100000</td>\n",
       "    </tr>\n",
       "    <tr>\n",
       "      <td>max</td>\n",
       "      <td>7.100000</td>\n",
       "      <td>-1.300000</td>\n",
       "    </tr>\n",
       "  </tbody>\n",
       "</table>\n",
       "</div>"
      ],
      "text/plain": [
       "            one       two\n",
       "count  3.000000  2.000000\n",
       "mean   3.083333 -2.900000\n",
       "std    3.493685  2.262742\n",
       "min    0.750000 -4.500000\n",
       "25%    1.075000 -3.700000\n",
       "50%    1.400000 -2.900000\n",
       "75%    4.250000 -2.100000\n",
       "max    7.100000 -1.300000"
      ]
     },
     "execution_count": 85,
     "metadata": {},
     "output_type": "execute_result"
    }
   ],
   "source": [
    "# Compute set of summary statistics for Series or each DataFrame column\n",
    "df.describe()"
   ]
  },
  {
   "cell_type": "code",
   "execution_count": 86,
   "metadata": {},
   "outputs": [
    {
     "data": {
      "text/plain": [
       "count     16\n",
       "unique     3\n",
       "top        a\n",
       "freq       8\n",
       "dtype: object"
      ]
     },
     "execution_count": 86,
     "metadata": {},
     "output_type": "execute_result"
    }
   ],
   "source": [
    "obj = pd.Series(['a', 'a', 'b', 'c'] * 4)\n",
    "obj.describe()"
   ]
  },
  {
   "cell_type": "code",
   "execution_count": null,
   "metadata": {},
   "outputs": [],
   "source": []
  },
  {
   "cell_type": "markdown",
   "metadata": {},
   "source": [
    "\n",
    "### 4. Other useful methods"
   ]
  },
  {
   "cell_type": "markdown",
   "metadata": {},
   "source": [
    "**DataFrame.head(n=5)**: Return the first n rows.\n",
    "\n",
    "This function returns the first n rows for the object based on position. It is useful for quickly testing if your object has the right type of data in it."
   ]
  },
  {
   "cell_type": "code",
   "execution_count": 87,
   "metadata": {},
   "outputs": [
    {
     "name": "stdout",
     "output_type": "stream",
     "text": [
      "    one  two\n",
      "a  1.40  NaN\n",
      "b  7.10 -4.5\n",
      "c   NaN  NaN\n",
      "d  0.75 -1.3 \n",
      "\n",
      "   one  two\n",
      "a  1.4  NaN\n",
      "b  7.1 -4.5 \n",
      "\n"
     ]
    }
   ],
   "source": [
    "print (df,'\\n') \n",
    "print (df.head(2),'\\n')"
   ]
  },
  {
   "cell_type": "markdown",
   "metadata": {},
   "source": [
    "**DataFrame.tail(n=5)**\n",
    "Return the last n rows.\n",
    "\n",
    "This function returns last n rows from the object based on position. It is useful for quickly verifying data, for example, after sorting or appending rows."
   ]
  },
  {
   "cell_type": "code",
   "execution_count": 88,
   "metadata": {},
   "outputs": [
    {
     "name": "stdout",
     "output_type": "stream",
     "text": [
      "    one  two\n",
      "a  1.40  NaN\n",
      "b  7.10 -4.5\n",
      "c   NaN  NaN\n",
      "d  0.75 -1.3 \n",
      "\n",
      "    one  two\n",
      "c   NaN  NaN\n",
      "d  0.75 -1.3 \n",
      "\n"
     ]
    }
   ],
   "source": [
    "print (df,'\\n') \n",
    "print (df.tail(2),'\\n')"
   ]
  },
  {
   "cell_type": "markdown",
   "metadata": {},
   "source": [
    "**Series.unique()**\n",
    "Return unique values of Series object.\n",
    "\n",
    "Uniques are returned in order of appearance. Hash table-based unique, therefore does NOT sort."
   ]
  },
  {
   "cell_type": "code",
   "execution_count": 89,
   "metadata": {},
   "outputs": [
    {
     "data": {
      "text/plain": [
       "array(['c', 'a', 'd', 'b'], dtype=object)"
      ]
     },
     "execution_count": 89,
     "metadata": {},
     "output_type": "execute_result"
    }
   ],
   "source": [
    "obj = pd.Series(['c', 'a', 'd', 'a', 'a', 'b', 'b', 'c', 'c'])\n",
    "uniques = obj.unique()\n",
    "uniques"
   ]
  },
  {
   "cell_type": "markdown",
   "metadata": {},
   "source": [
    "**Series.value_counts(normalize=False, sort=True, ascending=False, bins=None, dropna=True)**\n",
    "Return a Series containing counts of unique values.\n",
    "\n",
    "The resulting object will be in descending order so that the first element is the most frequently-occurring element. Excludes NA values by default."
   ]
  },
  {
   "cell_type": "code",
   "execution_count": 90,
   "metadata": {},
   "outputs": [
    {
     "data": {
      "text/plain": [
       "a    3\n",
       "c    3\n",
       "b    2\n",
       "d    1\n",
       "dtype: int64"
      ]
     },
     "execution_count": 90,
     "metadata": {},
     "output_type": "execute_result"
    }
   ],
   "source": [
    "obj.value_counts()"
   ]
  }
 ],
 "metadata": {
  "kernelspec": {
   "display_name": "Python 3",
   "language": "python",
   "name": "python3"
  },
  "language_info": {
   "codemirror_mode": {
    "name": "ipython",
    "version": 3
   },
   "file_extension": ".py",
   "mimetype": "text/x-python",
   "name": "python",
   "nbconvert_exporter": "python",
   "pygments_lexer": "ipython3",
   "version": "3.8.5"
  }
 },
 "nbformat": 4,
 "nbformat_minor": 2
}
