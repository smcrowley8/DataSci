{
 "cells": [
  {
   "cell_type": "markdown",
   "metadata": {},
   "source": [
    "# Python Non-Basics\n",
    "\n",
    "In this notebook, you will learn:\n",
    "\n",
    "- Lambda"
   ]
  },
  {
   "cell_type": "markdown",
   "metadata": {},
   "source": [
    "## 1 Lambda"
   ]
  },
  {
   "cell_type": "markdown",
   "metadata": {},
   "source": [
    "**Note**: See [documentation](https://www.pythontutorial.net/python-basics/python-lambda-expressions/)."
   ]
  },
  {
   "cell_type": "markdown",
   "metadata": {},
   "source": [
    "### 1.1 What are Python lambda expressions?\n",
    "\n",
    "```lambda parameters: expression```\n",
    "\n",
    "is equivalent to\n",
    "```\n",
    "def anonymous(parameters):\n",
    "    return expression\n",
    "```"
   ]
  },
  {
   "cell_type": "markdown",
   "metadata": {},
   "source": [
    "### 1.2 Functions that accept functions in the arguments"
   ]
  },
  {
   "cell_type": "code",
   "execution_count": 23,
   "metadata": {},
   "outputs": [
    {
     "name": "stdout",
     "output_type": "stream",
     "text": [
      "John Doe\n",
      "Doe, John\n"
     ]
    }
   ],
   "source": [
    "# defines a function called get_full_name() that format the full name from the first name and last name\n",
    "# the formatter function accepts two arguments first name and last name\n",
    "def get_full_name(first_name, last_name, formatter):\n",
    "    return formatter(first_name, last_name)\n",
    "\n",
    "# defines two functions that return a full name from the first name and last name in different formats\n",
    "def first_last(first_name, last_name):\n",
    "    return f\"{first_name} {last_name}\"\n",
    "\n",
    "def last_first(first_name, last_name):\n",
    "    return f\"{last_name}, {first_name}\"\n",
    "\n",
    "full_name = get_full_name('John', 'Doe', first_last)\n",
    "print(full_name) # John Doe\n",
    "\n",
    "full_name = get_full_name('John', 'Doe', last_first)\n",
    "print(full_name) #  Doe, John"
   ]
  },
  {
   "cell_type": "markdown",
   "metadata": {},
   "source": [
    "If using lambda expressions, you can call the get_full_name() function as follows:"
   ]
  },
  {
   "cell_type": "code",
   "execution_count": 24,
   "metadata": {},
   "outputs": [
    {
     "name": "stdout",
     "output_type": "stream",
     "text": [
      "John Doe\n",
      "Doe John\n"
     ]
    }
   ],
   "source": [
    "def get_full_name(first_name, last_name, formatter):\n",
    "    return formatter(first_name, last_name)\n",
    "\n",
    "full_name = get_full_name('John', 'Doe', lambda first_name, last_name: f\"{first_name} {last_name}\")\n",
    "print(full_name)\n",
    "\n",
    "full_name = get_full_name('John', 'Doe', lambda first_name, last_name: f\"{last_name} {first_name}\")\n",
    "print(full_name)"
   ]
  },
  {
   "cell_type": "code",
   "execution_count": null,
   "metadata": {},
   "outputs": [],
   "source": []
  },
  {
   "cell_type": "markdown",
   "metadata": {},
   "source": [
    "### 1.3 Functions that return a lamda function"
   ]
  },
  {
   "cell_type": "code",
   "execution_count": 25,
   "metadata": {},
   "outputs": [
    {
     "name": "stdout",
     "output_type": "stream",
     "text": [
      "Doubles: 4 6 8\n",
      "Triples: 6 9 12\n"
     ]
    }
   ],
   "source": [
    "# times() function returns a function which is a lambda expression\n",
    "def times(n):\n",
    "    return lambda x: x * n\n",
    "\n",
    "# make a double function based on times \n",
    "double = times(2)\n",
    "print(\"Doubles:\", double(2), double(3), double(4))\n",
    "\n",
    "# make a triple function based on times\n",
    "triple = times(3)\n",
    "print(\"Triples:\", triple(2), triple(3), triple(4))  # 9"
   ]
  },
  {
   "cell_type": "code",
   "execution_count": null,
   "metadata": {},
   "outputs": [],
   "source": []
  },
  {
   "cell_type": "markdown",
   "metadata": {},
   "source": [
    "### 1.4 Sorting functions that use lambda\n",
    "\n",
    "**Note**: See [documentation] (https://stackoverflow.com/questions/8966538/syntax-behind-sortedkey-lambda)"
   ]
  },
  {
   "cell_type": "code",
   "execution_count": 45,
   "metadata": {},
   "outputs": [
    {
     "name": "stdout",
     "output_type": "stream",
     "text": [
      "[(2, 9, 4), (3, 5, 8), (6, 2, 18), (6, 8, 5)]\n",
      "[(6, 2, 18), (3, 5, 8), (6, 8, 5), (2, 9, 4)]\n",
      "[(2, 9, 4), (3, 5, 8), (6, 8, 5), (6, 2, 18)]\n"
     ]
    }
   ],
   "source": [
    "mylist = [(3, 5, 8), (6, 2, 18), (2, 9, 4), (6, 8, 5)]\n",
    "\n",
    "# default sort based on the first item (index 0)\n",
    "print (sorted(mylist))\n",
    "\n",
    "# sort basde on second item (index 1)\n",
    "print (sorted(mylist, key=lambda x: x[1]))\n",
    "\n",
    "# sort basde on total of three items (ind0+ ind1 + ind2)\n",
    "print (sorted(mylist, key=lambda x: x[0]+x[1]+x[2]))"
   ]
  },
  {
   "cell_type": "code",
   "execution_count": 2,
   "metadata": {},
   "outputs": [
    {
     "name": "stdout",
     "output_type": "stream",
     "text": [
      "['monkey', 'apple', 'play', 'plea', 'ale']\n",
      "['plea', 'ale', 'apple', 'play', 'monkey']\n",
      "['monkey', 'apple', 'play', 'plea', 'ale']\n"
     ]
    }
   ],
   "source": [
    "dictionary = [\"play\", \"ale\",\"apple\",\"monkey\",\"plea\"]\n",
    "#dictionary: List[str] \n",
    "\n",
    "# sort by word length (reverse order)\n",
    "print(sorted(dictionary, key = lambda x: -len(x)))\n",
    "\n",
    "# sort by word by the last letter\n",
    "print(sorted(dictionary, key = lambda x: x[-1]))\n",
    "\n",
    "# sort by 1) word length (reverse order) and 2) lexicographical order\n",
    "# use lambda input: (criteria #1, criteria#2, ...)\n",
    "print(sorted(dictionary, key = lambda x: (-len(x), x)))"
   ]
  },
  {
   "cell_type": "code",
   "execution_count": null,
   "metadata": {},
   "outputs": [],
   "source": []
  },
  {
   "cell_type": "markdown",
   "metadata": {},
   "source": [
    "**multiple sorting levels**"
   ]
  },
  {
   "cell_type": "code",
   "execution_count": 54,
   "metadata": {},
   "outputs": [
    {
     "name": "stdout",
     "output_type": "stream",
     "text": [
      "[[12, 0, 8], [4, 11, 5], [4, 9, 7], [4, 9, 6]]\n"
     ]
    }
   ],
   "source": [
    "# multiple sorting levels\n",
    "votes = [ [ 4,  9,  6],\n",
    "          [ 4,  9,  7],\n",
    "          [ 4, 11,  5],\n",
    "          [12,  0,  8]]\n",
    "\n",
    "# If there are multiple sorting levels, you you may use a loop to accomplish\n",
    "# sort by the first field, by the second field,...        \n",
    "print (sorted(votes, key = lambda x: ([-x[i] for i in range(len(x))])))"
   ]
  },
  {
   "cell_type": "markdown",
   "metadata": {},
   "source": [
    "### 1.5 Min/Max functions that use lambda\n",
    "\n",
    "**Note**: See [documentation] (https://stackoverflow.com/questions/18296755/python-max-function-using-key-and-lambda-expression)\n",
    "\n",
    "Syntax: **max**(a, b, c, ...[, key=func]) -> value"
   ]
  },
  {
   "cell_type": "code",
   "execution_count": 26,
   "metadata": {},
   "outputs": [
    {
     "name": "stdout",
     "output_type": "stream",
     "text": [
      "2\n",
      "111\n"
     ]
    }
   ],
   "source": [
    "lis = ['1', '100', '111', '2']\n",
    "\n",
    "#default: compare their original values (strings are compared lexicographically) \n",
    "print (max(lis)) \n",
    "\n",
    "# compare the items by their integer value use key with a simple lambda\n",
    "print(max(lis, key=lambda x:int(x)))  # compare `int` version of each item"
   ]
  },
  {
   "cell_type": "code",
   "execution_count": 27,
   "metadata": {},
   "outputs": [
    {
     "name": "stdout",
     "output_type": "stream",
     "text": [
      "(4, 'e')\n",
      "(-1, 'z')\n"
     ]
    }
   ],
   "source": [
    "# more examples\n",
    "lis = [(1,'a'), (3,'c'), (4,'e'), (-1,'z')]\n",
    "\n",
    "# default comparision by index 0\n",
    "print (max(lis))\n",
    "\n",
    "#Use lambda to compare each item by the value at index 1\n",
    "print(max(lis, key = lambda x: x[1]))"
   ]
  },
  {
   "cell_type": "code",
   "execution_count": null,
   "metadata": {},
   "outputs": [],
   "source": []
  },
  {
   "cell_type": "markdown",
   "metadata": {},
   "source": [
    "### 1.6 Map functions that uses lambda\n",
    "\n",
    "**Note**: See [documentation] (https://www.pythontutorial.net/python-basics/python-map-list/)\n",
    "\n",
    "**map()** function returns a map object(which is an iterator) of the results after applying the given function to each item of a given iterable (list, tuple etc.)\n",
    "\n",
    "Syntax : **map**(fun, iter) \n",
    "\n",
    " - **fun** : It is a function to which map passes each element of given iterable.\n",
    " - **iter** : It is a iterable which is to be mapped."
   ]
  },
  {
   "cell_type": "code",
   "execution_count": 28,
   "metadata": {},
   "outputs": [
    {
     "name": "stdout",
     "output_type": "stream",
     "text": [
      "[200, 400, 600]\n",
      "[200, 400, 600]\n"
     ]
    }
   ],
   "source": [
    "bonuses = [100, 200, 300]\n",
    "\n",
    "def double(bonus):\n",
    "    return bonus * 2\n",
    "\n",
    "iterator = map(double, bonuses)\n",
    "print(list(iterator))\n",
    "\n",
    "# use lambda expression\n",
    "bonuses = [100, 200, 300]\n",
    "iterator = map(lambda bonus: bonus*2, bonuses)\n",
    "print(list(iterator))"
   ]
  },
  {
   "cell_type": "code",
   "execution_count": 29,
   "metadata": {},
   "outputs": [
    {
     "name": "stdout",
     "output_type": "stream",
     "text": [
      "['David', 'Peter', 'Jenifer']\n"
     ]
    }
   ],
   "source": [
    "# an example to capitalize the first letter \n",
    "names = ['david', 'peter', 'jenifer']\n",
    "new_names = map(lambda name: name.capitalize(), names)\n",
    "print(list(new_names))"
   ]
  },
  {
   "cell_type": "code",
   "execution_count": 30,
   "metadata": {},
   "outputs": [
    {
     "name": "stdout",
     "output_type": "stream",
     "text": [
      "[['SmartPhone', 400, 40.0], ['Tablet', 450, 45.0], ['Laptop', 700, 70.0]]\n"
     ]
    }
   ],
   "source": [
    "# an example to calculate the tax amount for each product with a 10% tax 10%.\n",
    "carts = [['SmartPhone', 400],\n",
    "         ['Tablet', 450],\n",
    "         ['Laptop', 700]]\n",
    "\n",
    "TAX = 0.1\n",
    "carts = map(lambda item: [item[0], item[1], item[1] * TAX], carts)\n",
    "\n",
    "print(list(carts))"
   ]
  },
  {
   "cell_type": "markdown",
   "metadata": {},
   "source": [
    "### 1.7 Filter function that uses lambda\n",
    "\n",
    "**Note**: See [documentation] (https://www.pythontutorial.net/python-basics/python-filter-list/)\n",
    "\n",
    "The **filter()** method filters the given sequence with the help of a function that tests each element in the sequence to be true or not.\n",
    "\n",
    "syntax: **filter**(function, sequence)\n",
    "\n",
    "- **function**: function that tests if each element of a sequence true or not.\n",
    "\n",
    "- **sequence**: sequence which needs to be filtered, it can be sets, lists, tuples, or containers of any iterators.\n",
    "\n",
    "- Returns: returns an iterator that is already filtered."
   ]
  },
  {
   "cell_type": "code",
   "execution_count": 31,
   "metadata": {},
   "outputs": [
    {
     "name": "stdout",
     "output_type": "stream",
     "text": [
      "Filter with defined fun: [70, 80, 90]\n",
      "Filter with lambda expression: [70, 80, 90]\n"
     ]
    }
   ],
   "source": [
    "scores = [70, 60, 80, 90, 50]\n",
    "\n",
    "# defined function\n",
    "def atLeast70(score):\n",
    "    return score >= 70\n",
    "filtered = filter(atLeast70, scores)\n",
    "print(\"Filter with defined fun:\", list(filtered))\n",
    "\n",
    "# lambda expression\n",
    "filtered = filter(lambda score: score >= 70, scores)\n",
    "print(\"Filter with lambda expression:\", list(filtered))"
   ]
  },
  {
   "cell_type": "code",
   "execution_count": 32,
   "metadata": {},
   "outputs": [
    {
     "name": "stdout",
     "output_type": "stream",
     "text": [
      "[['China', 1394015977], ['United States', 329877505], ['India', 1326093247]]\n"
     ]
    }
   ],
   "source": [
    "countries = [\n",
    "    ['China', 1394015977],\n",
    "    ['United States', 329877505],\n",
    "    ['India', 1326093247],\n",
    "    ['Indonesia', 267026366],\n",
    "    ['Bangladesh', 162650853],\n",
    "    ['Pakistan', 233500636],\n",
    "    ['Nigeria', 214028302],\n",
    "    ['Brazil', 21171597],\n",
    "    ['Russia', 141722205],\n",
    "    ['Mexico', 128649565]\n",
    "]\n",
    "\n",
    "populated = filter(lambda c: c[1] > 300000000, countries)\n",
    "\n",
    "print(list(populated))"
   ]
  },
  {
   "cell_type": "code",
   "execution_count": null,
   "metadata": {},
   "outputs": [],
   "source": []
  },
  {
   "cell_type": "markdown",
   "metadata": {},
   "source": [
    "### 1.8 Reduce function that uses lambda\n",
    "\n",
    "**Note**: See [documentation] (https://www.pythontutorial.net/python-basics/python-reduce-list/)\n",
    "\n",
    "The **reduce(fun,seq)** function is used to apply a particular function passed in its argument to all of the list elements mentioned in the sequence passed along\n",
    "\n",
    "Syntax: **reduce**(fun,seq)\n",
    "\n",
    "Procedure:\n",
    "\n",
    " - At first step, first two elements of sequence are picked and the result is obtained.\n",
    " - Next step is to apply the same function to the previously attained result and the number just succeeding the second element and the result is again stored.\n",
    " - This process continues till no more elements are left in the container.\n",
    " - The final returned result is returned and printed on console.\n"
   ]
  },
  {
   "cell_type": "code",
   "execution_count": 33,
   "metadata": {},
   "outputs": [
    {
     "name": "stdout",
     "output_type": "stream",
     "text": [
      "365\n",
      "365\n"
     ]
    }
   ],
   "source": [
    "# reduce() function belongs to the functools module, so you need to import\n",
    "from functools import reduce\n",
    "\n",
    "scores = [75, 65, 80, 95, 50]\n",
    "def sum(a, b):\n",
    "    #print(f\"a={a}, b={b}, {a} + {b} ={a+b}\")\n",
    "    return a + b\n",
    "\n",
    "total = reduce(sum, scores)\n",
    "print(total)\n",
    "\n",
    "# or you can use lambda function\n",
    "total = reduce(lambda a, b: a + b, scores)\n",
    "print(total)"
   ]
  }
 ],
 "metadata": {
  "kernelspec": {
   "display_name": "Python 3",
   "language": "python",
   "name": "python3"
  },
  "language_info": {
   "codemirror_mode": {
    "name": "ipython",
    "version": 3
   },
   "file_extension": ".py",
   "mimetype": "text/x-python",
   "name": "python",
   "nbconvert_exporter": "python",
   "pygments_lexer": "ipython3",
   "version": "3.7.4"
  }
 },
 "nbformat": 4,
 "nbformat_minor": 1
}
