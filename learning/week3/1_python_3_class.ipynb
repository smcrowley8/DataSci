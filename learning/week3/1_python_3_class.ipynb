{
 "cells": [
  {
   "cell_type": "markdown",
   "metadata": {},
   "source": [
    "# Python Non-Basics: Classes\n",
    "\n",
    "In this notebook, you will learn:\n",
    "\n",
    "- Constructor\n",
    "- self\n",
    "- Class attribute and statistic attribute\n",
    "- private attribute\n",
    "- Property\n",
    "- Inheritance"
   ]
  },
  {
   "cell_type": "markdown",
   "metadata": {},
   "source": [
    "### 1.1 Constructor:  **\\_\\_init__()**"
   ]
  },
  {
   "cell_type": "code",
   "execution_count": 3,
   "metadata": {},
   "outputs": [
    {
     "name": "stdout",
     "output_type": "stream",
     "text": [
      "Che 100\n"
     ]
    }
   ],
   "source": [
    "class Customer(object):\n",
    "    \"\"\"A customer of ABC Bank with a checking account. Customers have the\n",
    "    following properties:\n",
    "\n",
    "    Attributes:\n",
    "        name: A string representing the customer's name.\n",
    "        balance: A float tracking the current balance of the customer's account.\n",
    "    \"\"\"\n",
    "\n",
    "    def __init__(self, name, balance=0.0):\n",
    "        \"\"\"Return a Customer object whose name is *name* and starting\n",
    "        balance is *balance*.\"\"\"\n",
    "        self.name = name\n",
    "        self.balance = balance\n",
    "\n",
    "    def withdraw(self, amount):\n",
    "        \"\"\"Return the balance remaining after withdrawing *amount*\n",
    "        dollars.\"\"\"\n",
    "        if amount > self.balance:\n",
    "            raise RuntimeError('Amount greater than available balance.')\n",
    "        self.balance -= amount\n",
    "        return self.balance\n",
    "\n",
    "    def deposit(self, amount):\n",
    "        \"\"\"Return the balance remaining after depositing *amount*\n",
    "        dollars.\"\"\"\n",
    "        self.balance += amount\n",
    "        return self.balance\n",
    "\t\t\n",
    "cust1 = Customer(\"Che\", 100)\n",
    "print(cust1.name, cust1.balance)"
   ]
  },
  {
   "cell_type": "markdown",
   "metadata": {},
   "source": [
    "### 1.2 self"
   ]
  },
  {
   "cell_type": "code",
   "execution_count": 5,
   "metadata": {},
   "outputs": [
    {
     "name": "stdout",
     "output_type": "stream",
     "text": [
      "TESTING INSIDE THE CLASS FILE\n",
      "Cannot set invalid value:  25\n",
      "17:30:35\n"
     ]
    }
   ],
   "source": [
    "class Time:\n",
    "    \"\"\"Class Time with accessor methods\"\"\"\n",
    "\n",
    "    def __init__(self, hour=None, minute=None, second=None):\n",
    "        \"\"\"Constructor to initialize members\"\"\"\n",
    "        self._hour = hour\n",
    "        self._minute = minute\n",
    "        self._second = second\n",
    "\n",
    "    def setHour (self, hour) :\n",
    "        \"\"\"Set hour\"\"\"\n",
    "        if 0 <= hour < 24:\n",
    "            self._hour = hour\n",
    "        else :\n",
    "            print (\"Cannot set invalid value: \", hour)\n",
    "\n",
    "    def getHour (self):\n",
    "        return self._hour\n",
    "\n",
    "    def _str_(self):\n",
    "        \"\"\"return time object as a string\"\"\"\n",
    "        return (\"%.2d:%.2d:%.2d\" %(self._hour, self._minute, self._second))\n",
    "\n",
    "### TESTing inside the class file\n",
    "print (\"TESTING INSIDE THE CLASS FILE\")    \n",
    "#help(Time)\n",
    "\n",
    "t = Time(17, 30, 35)\n",
    "t.setHour(25)\n",
    "print (t._str_())"
   ]
  },
  {
   "cell_type": "markdown",
   "metadata": {},
   "source": [
    "### 1.3 Class Attribute v.s. Instance attribute"
   ]
  },
  {
   "cell_type": "code",
   "execution_count": 6,
   "metadata": {},
   "outputs": [],
   "source": [
    "# class attribute (pi), you place it outside of the __init__() method. \n",
    "# instance attribute (radius)\n",
    "\n",
    "class Circle:\n",
    "    pi = 3.14159\n",
    "\n",
    "    def __init__(self, radius):\n",
    "        self.radius = radius\n",
    "\n",
    "    def area(self):\n",
    "        return self.pi * self.radius**2\n",
    "\n",
    "    def circumference(self):\n",
    "        return 2 * self.pi * self.radius"
   ]
  },
  {
   "cell_type": "markdown",
   "metadata": {},
   "source": [
    "### 1.4 Private attributes\n",
    "\n",
    "Note: prefix it with a double underscore (__)"
   ]
  },
  {
   "cell_type": "code",
   "execution_count": 8,
   "metadata": {},
   "outputs": [],
   "source": [
    "class Counter:\n",
    "    def __init__(self):\n",
    "        self.__current = 0\n",
    "\n",
    "    def increment(self):\n",
    "        self.__current += 1\n",
    "\n",
    "    def value(self):\n",
    "        return self.__current\n",
    "\n",
    "    def reset(self):\n",
    "        self.__current = 0"
   ]
  },
  {
   "cell_type": "markdown",
   "metadata": {},
   "source": [
    "### 1.5 Python properties\n",
    "\n",
    " - age property is readable and writable\n",
    " - readonly property: use the @property decorator to define a property and omit the setter"
   ]
  },
  {
   "cell_type": "markdown",
   "metadata": {},
   "source": [
    "**@property** decorator allows you to define a property with the following syntax:\n",
    "\n",
    "```\n",
    "@property\n",
    "def property_name(self):\n",
    "     return self.__property_name\n",
    "\n",
    "@property_name.setter\n",
    "def property_name(self, value):\n",
    "     self.__property_name = value\n",
    "```"
   ]
  },
  {
   "cell_type": "code",
   "execution_count": 10,
   "metadata": {},
   "outputs": [],
   "source": [
    "class Person:\n",
    "    def __init__(self, first_name, last_name, age):\n",
    "        self.first_name = first_name\n",
    "        self.last_name = last_name\n",
    "        self.age = age\n",
    "\n",
    "    @property\n",
    "    def age(self):\n",
    "        return self.__age\n",
    "\n",
    "    @age.setter\n",
    "    def age(self, age):\n",
    "        if age < 0 or age > 199:\n",
    "            raise ValueError('Age is not valid')\n",
    "\n",
    "        self.__age = age\n",
    "        \n",
    "    @property\n",
    "    def full_name(self):\n",
    "        return f\"{self.first_name} {self.last_name}\""
   ]
  },
  {
   "cell_type": "code",
   "execution_count": 13,
   "metadata": {},
   "outputs": [
    {
     "name": "stdout",
     "output_type": "stream",
     "text": [
      "26\n",
      "John Doe\n"
     ]
    }
   ],
   "source": [
    "# age property is readable and writable\n",
    "john = Person('John', 'Doe', 25)\n",
    "john.age = 26\n",
    "print(john.age)\n",
    "\n",
    "# full property is readonly\n",
    "print(john.full_name)\n",
    "#AttributeError: can't set attribute\n",
    "#john.full_name = 'Jane Doe' "
   ]
  },
  {
   "cell_type": "code",
   "execution_count": null,
   "metadata": {},
   "outputs": [],
   "source": []
  },
  {
   "cell_type": "code",
   "execution_count": 21,
   "metadata": {},
   "outputs": [],
   "source": [
    "# person.py\n",
    "class Person:\n",
    "    def __init__(self, first_name, last_name, age):\n",
    "        self.first_name = first_name\n",
    "        self.last_name = last_name\n",
    "        self.age = age\n",
    "\n",
    "    def introduce(self):\n",
    "        return f\"Hi. I'm {self.full_name}. I'm {self.age} years old.\"\n",
    "\n",
    "    @property\n",
    "    def age(self):\n",
    "        return self.__age\n",
    "\n",
    "    @age.setter\n",
    "    def age(self, value):\n",
    "        if value <= 0:\n",
    "            raise ValueError('Age is not valid')\n",
    "\n",
    "        self.__age = value\n",
    "\n",
    "    @property\n",
    "    def full_name(self):\n",
    "        return f\"{self.first_name} {self.last_name}\""
   ]
  },
  {
   "cell_type": "markdown",
   "metadata": {},
   "source": [
    "### 1.6 Inheritance"
   ]
  },
  {
   "cell_type": "code",
   "execution_count": 24,
   "metadata": {},
   "outputs": [],
   "source": [
    "class Employee(Person):\n",
    "\n",
    "    def __init__(self, first_name, last_name, age, job_title, salary):\n",
    "        super().__init__(first_name, last_name, age)\n",
    "\n",
    "        self.job_title = job_title\n",
    "        self.salary = salary\n",
    "\n",
    "    @property\n",
    "    def job_title(self):\n",
    "        return self.__job_title\n",
    "\n",
    "    @job_title.setter\n",
    "    def job_title(self, value):\n",
    "        self.__job_title = value\n",
    "\n",
    "    @property\n",
    "    def salary(self):\n",
    "        return self.__salary\n",
    "\n",
    "    @salary.setter\n",
    "    def salary(self, value):\n",
    "        if value <= 0:\n",
    "            raise ValueError('Salary must be greater than zero.')\n",
    "\n",
    "        self.__salary = value\n",
    "\n",
    "    # overriding method\n",
    "    def introduce(self):\n",
    "        introduction = super().introduce()\n",
    "        introduction += f\" I'm a {self.job_title}.\"\n",
    "        return introduction"
   ]
  },
  {
   "cell_type": "code",
   "execution_count": 25,
   "metadata": {},
   "outputs": [
    {
     "name": "stdout",
     "output_type": "stream",
     "text": [
      "Hi. I'm John Doe. I'm 25 years old. I'm a Python Developer.\n"
     ]
    }
   ],
   "source": [
    "# tester\n",
    "#from employee import Employee\n",
    "\n",
    "employee = Employee('John', 'Doe', 25, 'Python Developer', 120000)\n",
    "print(employee.introduce())"
   ]
  },
  {
   "cell_type": "code",
   "execution_count": null,
   "metadata": {},
   "outputs": [],
   "source": []
  }
 ],
 "metadata": {
  "kernelspec": {
   "display_name": "Python 3",
   "language": "python",
   "name": "python3"
  },
  "language_info": {
   "codemirror_mode": {
    "name": "ipython",
    "version": 3
   },
   "file_extension": ".py",
   "mimetype": "text/x-python",
   "name": "python",
   "nbconvert_exporter": "python",
   "pygments_lexer": "ipython3",
   "version": "3.8.5"
  }
 },
 "nbformat": 4,
 "nbformat_minor": 1
}
