{
 "cells": [
  {
   "cell_type": "markdown",
   "metadata": {},
   "source": [
    "# Python Non-Basics: Iterable, Iterator, and Generators\n",
    "\n",
    "In this notebook, you will learn:\n",
    " - Iterable\n",
    " - Iterator and \n",
    " - Generator\n",
    " \n",
    "**Note**: See [documentation](https://www.pythontutorial.net/advanced-python/python-generators/)."
   ]
  },
  {
   "cell_type": "markdown",
   "metadata": {},
   "source": [
    "### 1.1 Iterable v.s. Iterator\n",
    "\n",
    " - **Iterable** is an object, which one can iterate over. It generates an Iterator when passed to `iter()` method. \n",
    " - **Iterator** is an object, which is used to iterate over an iterable object using `__next__()` method. Iterators have `__next__()` method, which returns the next item of the object.\n",
    "\n",
    " - Every iterator is also an iterable, but not every iterable is an iterator. For example, a list is iterable but a list is not an iterator. \n",
    " - An iterator can be created from an iterable by using the function `iter()`. To make this possible, the class of an object needs either a method `__iter__`, which returns an iterator, or a __getitem__ method with sequential indexes starting with 0."
   ]
  },
  {
   "cell_type": "code",
   "execution_count": 6,
   "metadata": {},
   "outputs": [
    {
     "name": "stdout",
     "output_type": "stream",
     "text": [
      "34  is iterable :  False\n",
      "[4, 5]  is iterable :  True\n",
      "(4, 5)  is iterable :  True\n",
      "{'a': 4}  is iterable :  True\n",
      "dfsdf  is iterable :  True\n",
      "4.5  is iterable :  False\n"
     ]
    }
   ],
   "source": [
    "# Function to check object is iterable or not \n",
    "def iterable(obj):\n",
    "    try:\n",
    "        iter(obj)\n",
    "        return True\n",
    "          \n",
    "    except TypeError:\n",
    "        return False\n",
    "  \n",
    "# Driver Code     \n",
    "for element in [34, [4, 5], (4, 5), {\"a\":4}, \"dfsdf\", 4.5]:               \n",
    "    print(element, \" is iterable : \", iterable(element))"
   ]
  },
  {
   "cell_type": "code",
   "execution_count": 7,
   "metadata": {},
   "outputs": [
    {
     "name": "stdout",
     "output_type": "stream",
     "text": [
      "['__add__', '__class__', '__contains__', '__delattr__', '__delitem__', '__dir__', '__doc__', '__eq__', '__format__', '__ge__', '__getattribute__', '__getitem__', '__gt__', '__hash__', '__iadd__', '__imul__', '__init__', '__init_subclass__', '__iter__', '__le__', '__len__', '__lt__', '__mul__', '__ne__', '__new__', '__reduce__', '__reduce_ex__', '__repr__', '__reversed__', '__rmul__', '__setattr__', '__setitem__', '__sizeof__', '__str__', '__subclasshook__', 'append', 'clear', 'copy', 'count', 'extend', 'index', 'insert', 'pop', 'remove', 'reverse', 'sort']\n"
     ]
    }
   ],
   "source": [
    "# List has __iter__ (iterable), but no __next__\n",
    "# so list is iterable, but not iterator\n",
    "print(dir(list))"
   ]
  },
  {
   "cell_type": "code",
   "execution_count": 8,
   "metadata": {},
   "outputs": [
    {
     "name": "stdout",
     "output_type": "stream",
     "text": [
      "['__class__', '__delattr__', '__dir__', '__doc__', '__eq__', '__format__', '__ge__', '__getattribute__', '__gt__', '__hash__', '__init__', '__init_subclass__', '__iter__', '__le__', '__length_hint__', '__lt__', '__ne__', '__new__', '__next__', '__reduce__', '__reduce_ex__', '__repr__', '__setattr__', '__setstate__', '__sizeof__', '__str__', '__subclasshook__']\n",
      "a\n",
      "e\n",
      "i\n",
      "o\n",
      "u\n"
     ]
    }
   ],
   "source": [
    "# Python code demonstrating basic use of iter()\n",
    "listA = ['a','e','i','o','u']\n",
    "\n",
    "# list does not have next method\n",
    "# print(next(listA))\n",
    " \n",
    "# iterator has __iter__ and  __next__ \n",
    "iter_listA = iter(listA)\n",
    "print(dir(iter_listA)) \n",
    "\n",
    "try:\n",
    "    print( next(iter_listA))\n",
    "    print( next(iter_listA))\n",
    "    print( next(iter_listA))\n",
    "    print( next(iter_listA))\n",
    "    print( next(iter_listA))\n",
    "    print( next(iter_listA)) #StopIteration error\n",
    "except:\n",
    "    pass"
   ]
  },
  {
   "cell_type": "code",
   "execution_count": 9,
   "metadata": {},
   "outputs": [
    {
     "name": "stdout",
     "output_type": "stream",
     "text": [
      "0\n",
      "1\n",
      "4\n",
      "9\n",
      "16\n"
     ]
    }
   ],
   "source": [
    "class Squares:\n",
    "    def __init__(self, length):\n",
    "        self.length = length\n",
    "        self.current = 0\n",
    "\n",
    "    def __iter__(self):\n",
    "        return self\n",
    "\n",
    "    def __next__(self):\n",
    "        result = self.current ** 2\n",
    "\n",
    "        self.current += 1\n",
    "\n",
    "        if self.current > self.length:\n",
    "            raise StopIteration\n",
    "\n",
    "        return result\n",
    "    \n",
    "# tester\n",
    "length = 5\n",
    "square = Squares(length)\n",
    "\n",
    "for s in square:\n",
    "     print(s)"
   ]
  },
  {
   "cell_type": "code",
   "execution_count": null,
   "metadata": {},
   "outputs": [],
   "source": []
  },
  {
   "cell_type": "markdown",
   "metadata": {},
   "source": [
    "### 1.2 Generator\n",
    "\n",
    " - A **generator function** is a function with **yield** in it.\n",
    "\n",
    " - A **generator expression** is like a list comprehension. It uses \"()\" vs \"[]\"\n",
    "\n",
    " - A **generator object** (often called 'a generator') is returned by both above.\n",
    "\n",
    " - A **generator** is also a subtype of iterator."
   ]
  },
  {
   "cell_type": "code",
   "execution_count": 10,
   "metadata": {},
   "outputs": [],
   "source": [
    "# generator function\n",
    "def greeting():\n",
    "    print('Hi!')\n",
    "    yield 1\n",
    "    print('How are you?')\n",
    "    yield 2\n",
    "    print('Are you there?')\n",
    "    yield 3"
   ]
  },
  {
   "cell_type": "code",
   "execution_count": 11,
   "metadata": {},
   "outputs": [
    {
     "name": "stdout",
     "output_type": "stream",
     "text": [
      "Hi!\n",
      "1\n",
      "How are you?\n",
      "2\n",
      "Are you there?\n",
      "3\n",
      "Hi!\n",
      "1\n",
      "How are you?\n",
      "2\n",
      "Are you there?\n",
      "3\n",
      "Hi!\n",
      "1\n",
      "How are you?\n",
      "2\n",
      "Are you there?\n",
      "3\n"
     ]
    }
   ],
   "source": [
    "# The messenger is a generator object, which is also an iterator.\n",
    "messenger = greeting()\n",
    "\n",
    "# option 1\n",
    "result=next(messenger, None)\n",
    "while result:\n",
    "    print (result)\n",
    "    result=next(messenger, None)\n",
    "\n",
    "# equivalently\n",
    "messenger = greeting()    \n",
    "result = next(messenger)\n",
    "print(result) \n",
    "result = next(messenger)\n",
    "print(result) \n",
    "result = next(messenger)\n",
    "print(result) \n",
    "\n",
    "#option 3\n",
    "messenger = greeting()  \n",
    "for result in messenger:\n",
    "    print(result)"
   ]
  },
  {
   "cell_type": "code",
   "execution_count": null,
   "metadata": {},
   "outputs": [],
   "source": []
  },
  {
   "cell_type": "code",
   "execution_count": 12,
   "metadata": {},
   "outputs": [
    {
     "name": "stdout",
     "output_type": "stream",
     "text": [
      "0\n",
      "1\n",
      "4\n",
      "9\n",
      "16\n"
     ]
    }
   ],
   "source": [
    "# squares generator function returns a generator object that \n",
    "# produces square numbers of integers from 0 to length - 1.\n",
    "def squares(length):\n",
    "    for n in range(length):\n",
    "        yield n ** 2\n",
    "\n",
    "length = 5\n",
    "square = squares(length)\n",
    "for s in square:\n",
    "    print(s)"
   ]
  },
  {
   "cell_type": "code",
   "execution_count": 13,
   "metadata": {},
   "outputs": [
    {
     "name": "stdout",
     "output_type": "stream",
     "text": [
      "0\n",
      "1\n",
      "4\n",
      "9\n",
      "16\n"
     ]
    }
   ],
   "source": [
    "squares = [n** 2 for n in range(5)]\n",
    "for square in squares:\n",
    "    print(square)"
   ]
  },
  {
   "cell_type": "markdown",
   "metadata": {},
   "source": [
    "### 1.3 Generator expressions vs list comprehensions\n",
    "\n",
    " - **Memory utilization**: A list comprehension returns a list while a generator expression returns a generator object. a list comprehension creates all elements right away and loads all of them into the memory.Conversely, a generator expression creates a single element based on request. \n"
   ]
  },
  {
   "cell_type": "code",
   "execution_count": 14,
   "metadata": {},
   "outputs": [
    {
     "name": "stdout",
     "output_type": "stream",
     "text": [
      "x =  87624\n",
      "y =  120\n"
     ]
    }
   ],
   "source": [
    "# memory comparison\n",
    "\n",
    "# import getsizeof from sys module\n",
    "from sys import getsizeof\n",
    "  \n",
    "comp = [i for i in range(10000)]   # list comprehension uses []\n",
    "gen = (i for i in range(10000))    # genaerator expression uses ()\n",
    "  \n",
    "#gives size for list comprehension\n",
    "x = getsizeof(comp) \n",
    "print(\"x = \", x)\n",
    "  \n",
    "#gives size for generator expression\n",
    "y = getsizeof(gen) \n",
    "print(\"y = \", y)"
   ]
  },
  {
   "cell_type": "code",
   "execution_count": 15,
   "metadata": {},
   "outputs": [
    {
     "name": "stdout",
     "output_type": "stream",
     "text": [
      "7.010646500000007\n",
      "0.4856888000000481\n"
     ]
    }
   ],
   "source": [
    "# execution time comparison\n",
    "\n",
    "#List Comprehension: \n",
    "import timeit\n",
    "  \n",
    "print(timeit.timeit('''list_com = [i for i in range(100) if i % 2 == 0]''', number=1000000))\n",
    "\n",
    "#Generator Expression:\n",
    "import timeit\n",
    "  \n",
    "print(timeit.timeit('''gen_exp = (i for i in range(100) if i % 2 == 0)''', number=1000000))"
   ]
  },
  {
   "cell_type": "markdown",
   "metadata": {},
   "source": [
    "### 1.4 More Generator examples"
   ]
  },
  {
   "cell_type": "code",
   "execution_count": 16,
   "metadata": {},
   "outputs": [
    {
     "name": "stdout",
     "output_type": "stream",
     "text": [
      "0\n",
      "1\n",
      "1\n",
      "2\n",
      "3\n",
      "\n",
      "Using for in loop\n",
      "0\n",
      "1\n",
      "1\n",
      "2\n",
      "3\n"
     ]
    }
   ],
   "source": [
    "# A simple generator for Fibonacci Numbers\n",
    "def fib(limit):\n",
    "      \n",
    "    # Initialize first two Fibonacci Numbers \n",
    "    a, b = 0, 1\n",
    "  \n",
    "    # One by one yield next Fibonacci Number\n",
    "    while a < limit:\n",
    "        yield a\n",
    "        a, b = b, a + b\n",
    "  \n",
    "# Create a generator object\n",
    "x = fib(5)\n",
    "  \n",
    "# Iterating over the generator object using next\n",
    "print(x.__next__()) # In Python 3, __next__()\n",
    "print(x.__next__())\n",
    "print(x.__next__())\n",
    "print(x.__next__())\n",
    "print(x.__next__())\n",
    "  \n",
    "# Iterating over the generator object using for\n",
    "# in loop.\n",
    "print(\"\\nUsing for in loop\")\n",
    "for i in fib(5): \n",
    "    print(i)"
   ]
  }
 ],
 "metadata": {
  "kernelspec": {
   "display_name": "Python 3",
   "language": "python",
   "name": "python3"
  },
  "language_info": {
   "codemirror_mode": {
    "name": "ipython",
    "version": 3
   },
   "file_extension": ".py",
   "mimetype": "text/x-python",
   "name": "python",
   "nbconvert_exporter": "python",
   "pygments_lexer": "ipython3",
   "version": "3.7.4"
  }
 },
 "nbformat": 4,
 "nbformat_minor": 1
}
