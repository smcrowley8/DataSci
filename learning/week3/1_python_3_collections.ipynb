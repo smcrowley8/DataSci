{
 "cells": [
  {
   "cell_type": "markdown",
   "metadata": {},
   "source": [
    "# Python Non-Basics: Collections\n",
    "\n",
    "In this notebook, you will learn other common container datatypes:\n",
    "- deque\n",
    "- Counter\n",
    "- defaultdict\n",
    "- OrderedDict\n",
    "\n",
    "**Note**: See [documentation](https://docs.python.org/3/library/collections.html#).\n"
   ]
  },
  {
   "cell_type": "markdown",
   "metadata": {},
   "source": [
    "### 1.1 dequeue\n",
    "\n",
    "Deques are a generalization of stacks and queues (the name is pronounced “deck” and is short for “double-ended queue”). \n",
    "\n",
    "Common methods:\n",
    " - **append(x)**: Add x to the right side of the deque.\n",
    " - **appendleft(x)**: Add x to the left side of the deque.\n",
    " - **extend(iterable)**: Extend the right side of the deque by appending elements from the iterable argument.\n",
    " - **extendleft(iterable)**: Extend the left side of the deque by appending elements from iterable.\n",
    " - **pop()**: move and return an element from the right side of the deque.\n",
    " - **popleft()**: Remove and return an element from the left side of the deque.\n",
    " - **rotate(n=1)**: Rotate the deque n steps to the right. If n is negative, rotate to the left."
   ]
  },
  {
   "cell_type": "code",
   "execution_count": 1,
   "metadata": {},
   "outputs": [
    {
     "name": "stdout",
     "output_type": "stream",
     "text": [
      "deque([1])\n",
      "deque([2, 1])\n",
      "deque([])\n",
      "deque(['1'])\n",
      "deque(['4', '3', '2', '1'])\n",
      "deque(['4', '3', '2'])\n",
      "deque(['3', '2'])\n",
      "deque(['3', '2', '7', '8', '9', '6'])\n",
      "deque(['3', '7', '8', '9', '6'])\n",
      "deque(['6', '9', '8', '7', '3'])\n",
      "deque(['8', '7', '3', '6', '9'])\n"
     ]
    }
   ],
   "source": [
    "from collections import deque\n",
    "\n",
    "d = deque()\n",
    "d.append(1)\n",
    "print(d) #deque([1])\n",
    "\n",
    "d.appendleft(2)\n",
    "print(d) #deque([2, 1])\n",
    "\n",
    "d.clear()\n",
    "print(d) #deque([])\n",
    "\n",
    "d.extend('1')\n",
    "print(d) #deque(['1'])\n",
    "\n",
    "d.extendleft('234')\n",
    "print(d) #deque(['4', '3', '2', '1'])\n",
    "\n",
    "d.pop()\n",
    "print(d) #deque(['4', '3', '2'])\n",
    "\n",
    "d.popleft()\n",
    "print(d) #deque(['3', '2'])\n",
    "\n",
    "d.extend('7896')\n",
    "print(d) #deque(['3', '2', '7', '8', '9', '6'])\n",
    "\n",
    "d.remove('2')\n",
    "print(d) #deque(['3', '7', '8', '9', '6'])\n",
    "\n",
    "d.reverse()\n",
    "print(d) #deque(['6', '9', '8', '7', '3'])\n",
    "\n",
    "d.rotate(3)\n",
    "print(d) #deque(['8', '7', '3', '6', '9'])"
   ]
  },
  {
   "cell_type": "code",
   "execution_count": null,
   "metadata": {},
   "outputs": [],
   "source": []
  },
  {
   "cell_type": "markdown",
   "metadata": {},
   "source": [
    "### 1.2 Counter\n",
    "\n",
    "A **Counter** is a dict subclass for counting hashable objects. \n",
    " - It is a collection where elements are stored as dictionary keys and their counts are stored as dictionary values. \n",
    " - Counts are allowed to be any integer value including **zero or negative** counts. \n",
    " - The Counter class is similar to bags or multisets in other languages."
   ]
  },
  {
   "cell_type": "code",
   "execution_count": 13,
   "metadata": {},
   "outputs": [
    {
     "name": "stdout",
     "output_type": "stream",
     "text": [
      "Counter({2: 4, 3: 4, 1: 3, 4: 2, 5: 1})\n",
      "dict_items([(1, 3), (2, 4), (3, 4), (4, 2), (5, 1)])\n",
      "dict_keys([1, 2, 3, 4, 5])\n",
      "dict_values([3, 4, 4, 2, 1])\n",
      "Counter({2: 4, 3: 4, 1: 3, 4: 2, 5: -1})\n"
     ]
    }
   ],
   "source": [
    "from collections import Counter\n",
    "\n",
    "myList = [1,1,2,3,4,5,3,2,3,4,2,1,2,3]\n",
    "\n",
    "# print out dictionary, keys, items, values\n",
    "print (Counter(myList))          #Counter({2: 4, 3: 4, 1: 3, 4: 2, 5: 1})\n",
    "print (Counter(myList).items())  #[(1, 3), (2, 4), (3, 4), (4, 2), (5, 1)]\n",
    "print (Counter(myList).keys())   #[1, 2, 3, 4, 5]\n",
    "print (Counter(myList).values()) #[3, 4, 4, 2, 1]\n",
    "\n",
    "#\n",
    "c=Counter(myList)\n",
    "c[5]=-1\n",
    "print (c)          #Counter({2: 4, 3: 4, 1: 3, 4: 2, 5: 1}"
   ]
  },
  {
   "cell_type": "code",
   "execution_count": 15,
   "metadata": {},
   "outputs": [
    {
     "name": "stdout",
     "output_type": "stream",
     "text": [
      "Counter()\n",
      "Counter({'a': 3, 'l': 2, 'g': 1, 'h': 1, 'd': 1})\n",
      "Counter({'red': 4, 'blue': 2})\n",
      "Counter({'dogs': 8, 'cats': 4})\n"
     ]
    }
   ],
   "source": [
    "c = Counter()                           # a new, empty counter\n",
    "print (c)  \n",
    "c = Counter('gallahad')                 # a new counter from an iterable\n",
    "print (c)  \n",
    "c = Counter({'red': 4, 'blue': 2})      # a new counter from a mapping\n",
    "print (c)  \n",
    "c = Counter(cats=4, dogs=8)             # a new counter from keyword args\n",
    "print (c)  "
   ]
  },
  {
   "cell_type": "markdown",
   "metadata": {},
   "source": [
    "**elements()**: \n",
    "\n",
    "Return an iterator over elements repeating each as many times as its count. Elements are returned in the order first encountered. If an element’s count is less than one, elements() will ignore it."
   ]
  },
  {
   "cell_type": "code",
   "execution_count": 4,
   "metadata": {},
   "outputs": [
    {
     "name": "stdout",
     "output_type": "stream",
     "text": [
      "['a', 'a', 'a', 'a', 'b', 'b']\n"
     ]
    }
   ],
   "source": [
    "c = Counter(a=4, b=2, c=0, d=-2)\n",
    "print(sorted(c.elements())) #['a', 'a', 'a', 'a', 'b', 'b']"
   ]
  },
  {
   "cell_type": "markdown",
   "metadata": {},
   "source": [
    "**most_common([n])**:\n",
    "    \n",
    "Return a list of the n most common elements and their counts from the most common to the least. If n is omitted or None, `most_common()` returns all elements in the counter. Elements with equal counts are ordered in the order first encountered:"
   ]
  },
  {
   "cell_type": "code",
   "execution_count": 20,
   "metadata": {},
   "outputs": [
    {
     "name": "stdout",
     "output_type": "stream",
     "text": [
      "[('a', 5), ('b', 2), ('r', 2)]\n"
     ]
    }
   ],
   "source": [
    "print (Counter('abracadabra').most_common(3)) #[('a', 5), ('b', 2), ('r', 2)]"
   ]
  },
  {
   "cell_type": "markdown",
   "metadata": {},
   "source": [
    "**subtract([iterable-or-mapping])**:\n",
    "    \n",
    "Elements are subtracted from an iterable or from another mapping (or counter). Like dict.update() but subtracts counts instead of replacing them. Both inputs and outputs may be zero or negative."
   ]
  },
  {
   "cell_type": "code",
   "execution_count": 6,
   "metadata": {},
   "outputs": [
    {
     "name": "stdout",
     "output_type": "stream",
     "text": [
      "Counter({'a': 3, 'b': 0, 'c': -3, 'd': -6})\n"
     ]
    }
   ],
   "source": [
    "c = Counter(a=4, b=2, c=0, d=-2)\n",
    "d = Counter(a=1, b=2, c=3, d=4)\n",
    "c.subtract(d)\n",
    "print(c) #Counter({'a': 3, 'b': 0, 'c': -3, 'd': -6})"
   ]
  },
  {
   "cell_type": "code",
   "execution_count": 7,
   "metadata": {},
   "outputs": [
    {
     "name": "stdout",
     "output_type": "stream",
     "text": [
      "Counter({'a': 4, 'b': 3, 'c': 2})\n",
      "Counter({'a': 2, 'c': 2})\n",
      "Counter({'a': 1, 'b': 1})\n",
      "Counter({'a': 3, 'b': 2, 'c': 2})\n"
     ]
    }
   ],
   "source": [
    "c = Counter(a=3, b=1, c = 2)\n",
    "d = Counter(a=1, b=2)\n",
    "print(c + d)    # add two counters together:  c[x] + d[x]\n",
    "                #Counter({'a': 4, 'b': 3})\n",
    "print(c - d)    # subtract (keeping only positive counts)\n",
    "                #Counter({'a': 2})\n",
    "print(c & d)    # intersection:  min(c[x], d[x]) \n",
    "                #Counter({'a': 1, 'b': 1})\n",
    "print(c | d)    # union:  max(c[x], d[x])\n",
    "                #Counter({'a': 3, 'b': 2})"
   ]
  },
  {
   "cell_type": "code",
   "execution_count": null,
   "metadata": {},
   "outputs": [],
   "source": []
  },
  {
   "cell_type": "markdown",
   "metadata": {},
   "source": [
    "### 1.3 defaultdict \n",
    "\n",
    "**Defaultdict** is a sub-class of the dict class that returns a dictionary-like object. **Defualtdict never raises a KeyError**. It provides a default value for the key that does not exists.\n",
    "\n",
    "**Syntax**: defaultdict(default_factory)\n",
    " - **default_factory**: A function returning the default value for the dictionary defined. If this argument is absent then the dictionary raises a KeyError.\n",
    " \n",
    "See [Documentation](https://www.geeksforgeeks.org/defaultdict-in-python/)"
   ]
  },
  {
   "cell_type": "code",
   "execution_count": 8,
   "metadata": {},
   "outputs": [
    {
     "name": "stdout",
     "output_type": "stream",
     "text": [
      "1 2 0\n",
      "1 2 0\n"
     ]
    }
   ],
   "source": [
    "from collections import defaultdict\n",
    " \n",
    "# Function to return a default values for keys that is not present\n",
    "def def_value(): return 0\n",
    "      \n",
    "# Defining the dict\n",
    "d = defaultdict(def_value)\n",
    "d[\"a\"] = 1\n",
    "d[\"b\"] = 2\n",
    "\n",
    "print(d[\"a\"], d[\"b\"], d[\"c\"])\n",
    "\n",
    "# or use lambda\n",
    "d2 = defaultdict(lambda: 0)\n",
    "d2[\"a\"] = 1\n",
    "d2[\"b\"] = 2\n",
    "\n",
    "print(d2[\"a\"], d2[\"b\"], d2[\"c\"])\n"
   ]
  },
  {
   "cell_type": "code",
   "execution_count": 26,
   "metadata": {},
   "outputs": [
    {
     "name": "stdout",
     "output_type": "stream",
     "text": [
      "defaultdict(<class 'list'>, {1: [0], 2: [0, 1], 3: [0, 1, 2], 4: [0, 1, 2, 3]})\n"
     ]
    }
   ],
   "source": [
    "# When the list class is passed as the default_factory argument, \n",
    "# then a defaultdict is created with the values that are list.\n",
    "from collections import defaultdict\n",
    "  \n",
    "# Defining a dict\n",
    "d = defaultdict(list)\n",
    "\n",
    "for i in range(5):\n",
    "    for j in range(i):\n",
    "        d[i].append(j)\n",
    "print(d)"
   ]
  },
  {
   "cell_type": "code",
   "execution_count": 22,
   "metadata": {},
   "outputs": [
    {
     "name": "stdout",
     "output_type": "stream",
     "text": [
      "Regular dictionary {1: 2, 2: 3, 3: 1, 4: 2}\n",
      "defaultdict(<class 'int'>, {1: 2, 2: 3, 3: 1, 4: 2})\n"
     ]
    }
   ],
   "source": [
    "# When the int class is passed as the default_factory argument, \n",
    "# then a defaultdict is created with default value as zero.\n",
    "from collections import defaultdict\n",
    "\n",
    "L = [1, 2, 3, 4, 2, 4, 1, 2]\n",
    "\n",
    "# Defining the regular dict\n",
    "rd = dict()\n",
    "   \n",
    "for i in L:\n",
    "    # Raise keyError\n",
    "    # rd[i] += 1\n",
    "    \n",
    "    # you must do the following\n",
    "    rd[i] = rd.get(i, 0) + 1\n",
    "print(\"Regular dictionary\", rd)\n",
    "\n",
    "# Defining the defaultdict \n",
    "d = defaultdict(int)   # same as d = defaultdict(lambda:0)  \n",
    "   \n",
    "for i in L:\n",
    "    # The default value is 0\n",
    "    d[i] += 1\n",
    "print(d)"
   ]
  },
  {
   "cell_type": "markdown",
   "metadata": {},
   "source": [
    "### 1.4 OrderedDict\n",
    "\n",
    "An **OrderedDict** is a dictionary subclass that remembers the order that keys were first inserted. "
   ]
  },
  {
   "cell_type": "code",
   "execution_count": 11,
   "metadata": {},
   "outputs": [
    {
     "name": "stdout",
     "output_type": "stream",
     "text": [
      "Before deleting:\n",
      "\n",
      "a 1\n",
      "b 2\n",
      "c 3\n",
      "d 4\n",
      "\n",
      "After deleting:\n",
      "\n",
      "a 1\n",
      "b 2\n",
      "d 4\n",
      "\n",
      "After re-inserting:\n",
      "\n",
      "a 1\n",
      "b 2\n",
      "d 4\n",
      "c 3\n"
     ]
    }
   ],
   "source": [
    "# A Python program to demonstrate working of deletion\n",
    "# re-insertion in OrderedDict\n",
    "from collections import OrderedDict\n",
    " \n",
    "print(\"Before deleting:\\n\")\n",
    "od = OrderedDict()\n",
    "od['a'] = 1\n",
    "od['b'] = 2\n",
    "od['c'] = 3\n",
    "od['d'] = 4\n",
    " \n",
    "for key, value in od.items():\n",
    "    print(key, value)\n",
    " \n",
    "print(\"\\nAfter deleting:\\n\")\n",
    "od.pop('c')\n",
    "for key, value in od.items():\n",
    "    print(key, value)\n",
    " \n",
    "print(\"\\nAfter re-inserting:\\n\")\n",
    "od['c'] = 3\n",
    "for key, value in od.items():\n",
    "    print(key, value)"
   ]
  }
 ],
 "metadata": {
  "kernelspec": {
   "display_name": "Python 3",
   "language": "python",
   "name": "python3"
  },
  "language_info": {
   "codemirror_mode": {
    "name": "ipython",
    "version": 3
   },
   "file_extension": ".py",
   "mimetype": "text/x-python",
   "name": "python",
   "nbconvert_exporter": "python",
   "pygments_lexer": "ipython3",
   "version": "3.7.4"
  }
 },
 "nbformat": 4,
 "nbformat_minor": 1
}
