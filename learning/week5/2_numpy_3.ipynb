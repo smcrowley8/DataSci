{
 "cells": [
  {
   "cell_type": "markdown",
   "metadata": {},
   "source": [
    "# Numpy: Part 3\n",
    "\n",
    "In this notebook, you will learn:\n",
    " - Array mathematics\n",
    " - Statistics methods\n",
    " - Normalization\n",
    " - Vectorization\n",
    " \n",
    "Read more: \n",
    " - textbook (https://jakevdp.github.io/PythonDataScienceHandbook/02.00-introduction-to-numpy.html) and\n",
    " - [Numpy website] (https://numpy.org/).\n",
    "\n",
    "Numpy is the core library for scientific computing in Python. It provides a high-performance multidimensional array object, and tools for working with these arrays."
   ]
  },
  {
   "cell_type": "code",
   "execution_count": 46,
   "metadata": {},
   "outputs": [],
   "source": [
    "import numpy as np"
   ]
  },
  {
   "cell_type": "markdown",
   "metadata": {},
   "source": [
    "### 1. Array mathematics"
   ]
  },
  {
   "cell_type": "markdown",
   "metadata": {},
   "source": [
    "**Unary Universal Functions**"
   ]
  },
  {
   "cell_type": "code",
   "execution_count": 76,
   "metadata": {},
   "outputs": [
    {
     "name": "stdout",
     "output_type": "stream",
     "text": [
      "X dim:  0 \n",
      "\n",
      " 2.718281828459045\n"
     ]
    }
   ],
   "source": [
    "import numpy as np\n",
    "\n",
    "# example of np.exp\n",
    "x = np.array(1)\n",
    "print('X dim: ', x.ndim, '\\n\\n', np.exp(x)) # result is (exp(1))"
   ]
  },
  {
   "cell_type": "markdown",
   "metadata": {},
   "source": [
    "If $ x = (x_1, x_2, ..., x_n)$ is a row vector then $np.exp(x)$ will apply the exponential function to every element of x. The output will thus be: $np.exp(x) = (e^{x_1}, e^{x_2}, ..., e^{x_n})$"
   ]
  },
  {
   "cell_type": "code",
   "execution_count": 77,
   "metadata": {},
   "outputs": [
    {
     "name": "stdout",
     "output_type": "stream",
     "text": [
      "X dim:  1 \n",
      "\n",
      " [ 2.71828183  7.3890561  20.08553692]\n"
     ]
    }
   ],
   "source": [
    "import numpy as np\n",
    "\n",
    "# example of np.exp\n",
    "x = np.array([1, 2, 3])\n",
    "print('X dim: ', x.ndim, '\\n\\n', np.exp(x)) # result is (exp(1), exp(2), exp(3))"
   ]
  },
  {
   "cell_type": "code",
   "execution_count": 80,
   "metadata": {},
   "outputs": [
    {
     "name": "stdout",
     "output_type": "stream",
     "text": [
      "X dim:  2 \n",
      "\n",
      " [[  2.71828183   7.3890561   20.08553692]\n",
      " [ 54.59815003 148.4131591  403.42879349]]\n"
     ]
    }
   ],
   "source": [
    "# example of np.exp\n",
    "x = np.array([[1, 2, 3],[4, 5, 6]])\n",
    "print('X dim: ', x.ndim, '\\n\\n', np.exp(x)) # result is ([exp(1), exp(2), exp(3)][exp(4), exp(5), exp(6)])"
   ]
  },
  {
   "cell_type": "markdown",
   "metadata": {},
   "source": [
    "Furthermore, if x is a vector, then a Python operation such as $s = x + 3$ or $s = \\frac{1}{x}$ will output s as a vector of the same size as x."
   ]
  },
  {
   "cell_type": "code",
   "execution_count": 81,
   "metadata": {},
   "outputs": [
    {
     "name": "stdout",
     "output_type": "stream",
     "text": [
      "[[4 5 6]\n",
      " [7 8 9]]\n",
      "[[1.         0.5        0.33333333]\n",
      " [0.25       0.2        0.16666667]]\n"
     ]
    }
   ],
   "source": [
    "print (x + 3)\n",
    "print (1/x)"
   ]
  },
  {
   "cell_type": "code",
   "execution_count": 49,
   "metadata": {},
   "outputs": [
    {
     "name": "stdout",
     "output_type": "stream",
     "text": [
      "[ 1.21 20.25 98.01]\n",
      "[1.04880885 2.12132034 3.14642654]\n",
      "[1. 1. 1.]\n",
      "[3.00416602e+00 9.00171313e+01 1.99303704e+04]\n",
      "[0.09531018 1.5040774  2.29253476]\n",
      "[0.13750352 2.169925   3.30742853]\n",
      "[0.04139269 0.65321251 0.99563519]\n",
      "[1. 4. 9.]\n",
      "[ 2.  5. 10.]\n",
      "[ 1.  4. 10.]\n"
     ]
    }
   ],
   "source": [
    "a = np.array([1.1, 4.5, 9.9], float)\n",
    "\n",
    "print(np.square(a))# [ 1.21 20.25 98.01]\n",
    "print(np.sqrt(a))  # [1.04880885 2.12132034 3.14642654]\n",
    "print(np.sign(a))  # [1. 1. 1.]\n",
    "\n",
    "print(np.exp(a)) \n",
    "print(np.log(a))   # [0.09531018 1.5040774  2.29253476]\n",
    "print(np.log2(a))  # [0.13750352 2.169925   3.30742853]\n",
    "print(np.log10(a)) # [0.04139269 0.65321251 0.99563519]\n",
    "\n",
    "print(np.floor(a)) # array([ 1., 4., 9.]) \n",
    "print(np.ceil(a))  # array([ 2., 5., 10.]) \n",
    "print(np.rint(a))   # array([ 1., 2., 2.])"
   ]
  },
  {
   "cell_type": "code",
   "execution_count": null,
   "metadata": {},
   "outputs": [],
   "source": []
  },
  {
   "cell_type": "markdown",
   "metadata": {},
   "source": [
    "**Binary Universal Functions**"
   ]
  },
  {
   "cell_type": "code",
   "execution_count": 50,
   "metadata": {},
   "outputs": [
    {
     "name": "stdout",
     "output_type": "stream",
     "text": [
      "[[ 6.  8.]\n",
      " [10. 12.]]\n",
      "[[ 6.  8.]\n",
      " [10. 12.]]\n"
     ]
    }
   ],
   "source": [
    "x = np.array([[1,2],[3,4]], dtype=np.float64)\n",
    "y = np.array([[5,6],[7,8]], dtype=np.float64)\n",
    "\n",
    "# Elementwise sum; both produce the array\n",
    "print (x + y)\n",
    "print (np.add(x, y))"
   ]
  },
  {
   "cell_type": "code",
   "execution_count": 51,
   "metadata": {},
   "outputs": [
    {
     "name": "stdout",
     "output_type": "stream",
     "text": [
      "[[-4. -4.]\n",
      " [-4. -4.]]\n",
      "[[-4. -4.]\n",
      " [-4. -4.]]\n"
     ]
    }
   ],
   "source": [
    "# Elementwise difference; both produce the array\n",
    "print (x - y)\n",
    "print (np.subtract(x, y))"
   ]
  },
  {
   "cell_type": "code",
   "execution_count": 52,
   "metadata": {},
   "outputs": [
    {
     "name": "stdout",
     "output_type": "stream",
     "text": [
      "[[ 5. 12.]\n",
      " [21. 32.]]\n",
      "[[ 5. 12.]\n",
      " [21. 32.]]\n"
     ]
    }
   ],
   "source": [
    "# Elementwise product; both produce the array\n",
    "print (x * y)\n",
    "print (np.multiply(x, y))"
   ]
  },
  {
   "cell_type": "code",
   "execution_count": 53,
   "metadata": {},
   "outputs": [
    {
     "name": "stdout",
     "output_type": "stream",
     "text": [
      "[[0.2        0.33333333]\n",
      " [0.42857143 0.5       ]]\n",
      "[[0.2        0.33333333]\n",
      " [0.42857143 0.5       ]]\n"
     ]
    }
   ],
   "source": [
    "# Elementwise division; both produce the array\n",
    "# [[ 0.2         0.33333333]\n",
    "#  [ 0.42857143  0.5       ]]\n",
    "print (x / y)\n",
    "print (np.divide(x, y))"
   ]
  },
  {
   "cell_type": "code",
   "execution_count": 54,
   "metadata": {},
   "outputs": [
    {
     "name": "stdout",
     "output_type": "stream",
     "text": [
      "[[1.         1.41421356]\n",
      " [1.73205081 2.        ]]\n"
     ]
    }
   ],
   "source": [
    "# Elementwise square root; produces the array\n",
    "# [[ 1.          1.41421356]\n",
    "#  [ 1.73205081  2.        ]]\n",
    "print (np.sqrt(x))"
   ]
  },
  {
   "cell_type": "markdown",
   "metadata": {},
   "source": [
    "**Note**: \n",
    " - `*` is **elementwise multiplication**, not matrix multiplication. \n",
    " - Use the **dot** function to compute inner products of vectors, to multiply a vector by a matrix, and to multiply matrices."
   ]
  },
  {
   "cell_type": "markdown",
   "metadata": {},
   "source": [
    "**Matrix Multiplication**"
   ]
  },
  {
   "cell_type": "code",
   "execution_count": 83,
   "metadata": {},
   "outputs": [
    {
     "name": "stdout",
     "output_type": "stream",
     "text": [
      "219\n",
      "219\n"
     ]
    }
   ],
   "source": [
    "x = np.array([[1,2],[3,4]])\n",
    "y = np.array([[5,6],[7,8]])\n",
    "\n",
    "v = np.array([9,10])\n",
    "w = np.array([11, 12])\n",
    "\n",
    "# Inner product of vectors; both produce 219\n",
    "print (v.dot(w))       # 9*11+10*12\n",
    "print (np.dot(v, w))"
   ]
  },
  {
   "cell_type": "code",
   "execution_count": 86,
   "metadata": {},
   "outputs": [
    {
     "name": "stdout",
     "output_type": "stream",
     "text": [
      "Shapes:  (2, 2) (2,) => [29 67]\n",
      "Shapes:  (2, 2) (2,) => [29 67]\n"
     ]
    }
   ],
   "source": [
    "# Matrix / vector product; both produce the rank 1 array [29 67]\n",
    "print ('Shapes: ', x.shape, v.shape, \"=>\", x.dot(v))\n",
    "print ('Shapes: ', x.shape, v.shape, \"=>\", np.dot(x, v))"
   ]
  },
  {
   "cell_type": "code",
   "execution_count": 89,
   "metadata": {},
   "outputs": [
    {
     "name": "stdout",
     "output_type": "stream",
     "text": [
      "Shapes:  (2, 2) (2, 2) =>\n",
      " [[19 22]\n",
      " [43 50]]\n",
      "Shapes:  (2, 2) (2, 2) =>\n",
      " [[19 22]\n",
      " [43 50]]\n"
     ]
    }
   ],
   "source": [
    "# Matrix / matrix product; both produce the rank 2 array\n",
    "# [[19 22]\n",
    "#  [43 50]]\n",
    "print ('Shapes: ', x.shape, y.shape, \"=>\\n\", x.dot(y))\n",
    "print ('Shapes: ', x.shape, y.shape, \"=>\\n\", np.dot(x, y))"
   ]
  },
  {
   "cell_type": "code",
   "execution_count": 58,
   "metadata": {},
   "outputs": [
    {
     "name": "stdout",
     "output_type": "stream",
     "text": [
      "[[2. 2. 1.]\n",
      " [8. 8. 4.]\n",
      " [0. 0. 0.]]\n",
      "10.0\n",
      "[ 4. -1. -6.]\n"
     ]
    }
   ],
   "source": [
    "# inner, outer, and cross products of matrices and vectors. \n",
    "# For vectors, the inner product is equivalent to the dot product\n",
    "a = np.array([1, 4, 0], float) \n",
    "b = np.array([2, 2, 1], float)\n",
    "\n",
    "print(np.outer(a, b))\n",
    "print(np.inner(a, b))\n",
    "print(np.cross(a, b))"
   ]
  },
  {
   "cell_type": "markdown",
   "metadata": {},
   "source": [
    "Other matrix operations:\n",
    " - Transpose\n",
    " - Reshape"
   ]
  },
  {
   "cell_type": "code",
   "execution_count": 59,
   "metadata": {},
   "outputs": [
    {
     "name": "stdout",
     "output_type": "stream",
     "text": [
      "[[1 2 3]] (1, 3) \n",
      "\n",
      "[[1]\n",
      " [2]\n",
      " [3]] (3, 1) \n",
      "\n",
      "[[1 2 3 4]\n",
      " [5 6 7 8]] (2, 4) \n",
      "\n",
      "[[1 5]\n",
      " [2 6]\n",
      " [3 7]\n",
      " [4 8]] (4, 2)\n"
     ]
    }
   ],
   "source": [
    "v = np.array([[1,2,3]])\n",
    "print (v, v.shape, \"\\n\") \n",
    "print (v.T, v.T.shape, \"\\n\")\n",
    "\n",
    "x = np.array([[1, 2, 3, 4],\n",
    "              [5, 6, 7, 8]])\n",
    "print (x, x.shape, \"\\n\")\n",
    "print (x.T, x.T.shape)"
   ]
  },
  {
   "cell_type": "code",
   "execution_count": 60,
   "metadata": {},
   "outputs": [
    {
     "name": "stdout",
     "output_type": "stream",
     "text": [
      "[[1 2 3 4]\n",
      " [5 6 7 8]] (2, 4) \n",
      "\n",
      "[[1 2]\n",
      " [3 4]\n",
      " [5 6]\n",
      " [7 8]] (4, 2) \n",
      "\n",
      "[[1 2]\n",
      " [3 4]\n",
      " [5 6]\n",
      " [7 8]] (4, 2) \n",
      "\n",
      "[[1 2 3 4 5 6 7 8]] (1, 8) \n",
      "\n",
      "[1 2 3 4 5 6 7 8] (8,) \n",
      "\n"
     ]
    }
   ],
   "source": [
    "x = np.array([[1, 2, 3, 4],\n",
    "              [5, 6, 7, 8]])\n",
    "\n",
    "print (x, x.shape, \"\\n\")\n",
    "\n",
    "# rank2 (4,2)\n",
    "print (np.reshape(x, (4,2)), np.reshape(x, (4,2)).shape, \"\\n\")\n",
    "print (np.reshape(x, (4,-1)), np.reshape(x, (4,-1)).shape, \"\\n\") # the unspecified value is inferred to be 2\n",
    "\n",
    "# rank2 (1,8) and rank1 (8,)\n",
    "print (np.reshape(x, (1,8)), np.reshape(x, (1,8)).shape, \"\\n\")\n",
    "print (x.flatten(), x.flatten().shape, \"\\n\")"
   ]
  },
  {
   "cell_type": "markdown",
   "metadata": {},
   "source": [
    "### 2. Statistical methods"
   ]
  },
  {
   "cell_type": "code",
   "execution_count": 92,
   "metadata": {},
   "outputs": [
    {
     "name": "stdout",
     "output_type": "stream",
     "text": [
      "[[14 29 34]\n",
      " [42  5 46]\n",
      " [ 1 38 44]\n",
      " [ 5 16 52]]\n",
      "326\n",
      "[ 62  88 176]\n",
      "[77 93 83 73]\n"
     ]
    }
   ],
   "source": [
    "x = np.array([(14, 29, 34), (42, 5, 46), (1, 38, 44), (5, 16, 52)])\n",
    "\n",
    "print(x)\n",
    "print (np.sum(x))           # Compute sum of all elements; \n",
    "print (np.sum(x, axis=0))   # Compute sum of each column (along with row axis);\n",
    "print (np.sum(x, axis=1))   # Compute sum of each row (along with column axis);"
   ]
  },
  {
   "cell_type": "code",
   "execution_count": 91,
   "metadata": {},
   "outputs": [
    {
     "name": "stdout",
     "output_type": "stream",
     "text": [
      "[[14 29 34]\n",
      " [42  5 46]\n",
      " [ 1 38 44]\n",
      " [ 5 16 52]]\n",
      "52\n",
      "[42 38 52]\n",
      "[34 46 44 52]\n"
     ]
    }
   ],
   "source": [
    "print(x)\n",
    "print(np.max(x))            # max of all elements\n",
    "print(np.max(x, axis = 0))  # max for each column\n",
    "print(np.max(x, axis = 1))  # max for each row"
   ]
  },
  {
   "cell_type": "markdown",
   "metadata": {},
   "source": [
    "**numpy.argmax()** function returns indices of the max element of the array in a particular axis. "
   ]
  },
  {
   "cell_type": "code",
   "execution_count": 95,
   "metadata": {},
   "outputs": [
    {
     "name": "stdout",
     "output_type": "stream",
     "text": [
      "[[14 29 34]\n",
      " [42  5 46]\n",
      " [ 1 38 44]\n",
      " [ 5 16 52]]\n",
      "11\n",
      "[1 2 3]\n",
      "[2 2 2 2]\n"
     ]
    }
   ],
   "source": [
    "print(x)\n",
    "print(np.argmax(x))           # index correponding to max of all elements (flattened) \n",
    "print(np.argmax(x, axis = 0)) # index correponding to max for each column (along with row axis)\n",
    "print(np.argmax(x, axis = 1)) # index correponding to max for each row  (along with column axis)"
   ]
  },
  {
   "cell_type": "code",
   "execution_count": null,
   "metadata": {},
   "outputs": [],
   "source": []
  },
  {
   "cell_type": "markdown",
   "metadata": {},
   "source": [
    "### 3. Column normalization\n",
    "\n",
    "For column normalizatio, the volues for each column will be normalized so the each column's unit lenght is 1.\n",
    "\n",
    "For example, $$x = \n",
    "\\begin{bmatrix}\n",
    "    0 &  0  & 30 & 400\\\\\n",
    "    3 & 30  & 40 &   0\\\\\n",
    "    4 & 40  &  0 & 300\\\\\n",
    "\\end{bmatrix}\\tag{1}$$ \n",
    "\n",
    "then we need compute norm for each column so we need to do norm along **row axis, axis = 0, not axis = 1**\n",
    "\n",
    "$$\\| x\\| = np.linalg.norm(x, axis = 0, keepdims = True) = \\begin{bmatrix}\n",
    "    5 & 50 & 50 & 500\\\\\n",
    "\\end{bmatrix}\\tag{2} $$\n",
    "\n",
    "and        $$ x\\_normalized = \\frac{x}{\\| x\\|} = \\begin{bmatrix}\n",
    "    0. & 0. & 0.6 &0.8\\\\\n",
    "   0.6 &0.6 &0.8  &0. \\\\\n",
    "   0.8 &0.8 &0.   &0.6\\\\\n",
    "\\end{bmatrix}\\tag{3}$$ \n",
    "\n",
    "Note that you can divide matrices of different sizes and it works fine: this is called broadcasting and you're going to learn."
   ]
  },
  {
   "cell_type": "code",
   "execution_count": 106,
   "metadata": {},
   "outputs": [
    {
     "name": "stdout",
     "output_type": "stream",
     "text": [
      "[[  5.  50.  50. 500.]] (1, 4) \n",
      "\n",
      "[[0.  0.  0.6 0.8]\n",
      " [0.6 0.6 0.8 0. ]\n",
      " [0.8 0.8 0.  0.6]]\n"
     ]
    }
   ],
   "source": [
    "import numpy as np\n",
    "x = np.array([[0,  0, 30, 400],\n",
    "              [3, 30, 40,   0],\n",
    "              [4, 40,  0, 300]])\n",
    "\n",
    "# Compute x_norm as the norm 2 of x. Use np.linalg.norm(..., ord = 2, axis = ..., keepdims = True)\n",
    "x_norm = np.linalg.norm(x, ord = 2, axis = 0, keepdims = True)\n",
    "print (x_norm, x_norm.shape,'\\n')\n",
    "    \n",
    "# Divide x by its norm.\n",
    "x = x / x_norm\n",
    "\n",
    "print(x)      "
   ]
  },
  {
   "cell_type": "markdown",
   "metadata": {
    "collapsed": true
   },
   "source": [
    "### 4. Vectorization"
   ]
  },
  {
   "cell_type": "markdown",
   "metadata": {},
   "source": [
    "You deal with very large datasets very frequently. Hence, a non-computationally-optimal function can become a huge bottleneck in your algorithm and can result in a model that takes ages to run. To make sure that your code is  computationally efficient, you will use vectorization. For example, try to tell the difference between the following implementations of the dot/elementwise product."
   ]
  },
  {
   "cell_type": "code",
   "execution_count": 123,
   "metadata": {},
   "outputs": [
    {
     "name": "stdout",
     "output_type": "stream",
     "text": [
      "dot time = 437.5ms\n",
      "elementwise multiplication time = 531.25ms\n"
     ]
    }
   ],
   "source": [
    "import time\n",
    "\n",
    "x1 = range(1000000)\n",
    "x2 = range(1000000)\n",
    "\n",
    "### CLASSIC DOT PRODUCT OF VECTORS IMPLEMENTATION ###\n",
    "tic = time.process_time()\n",
    "dot = 0\n",
    "for i in range(len(x1)):\n",
    "    dot+= x1[i]*x2[i]\n",
    "toc = time.process_time()\n",
    "print (\"dot time = \" + str(1000*(toc - tic)) + \"ms\")\n",
    "\n",
    "### CLASSIC ELEMENTWISE IMPLEMENTATION ###\n",
    "tic = time.process_time()\n",
    "mul = np.zeros(len(x1))\n",
    "for i in range(len(x1)):\n",
    "    mul[i] = x1[i]*x2[i]\n",
    "toc = time.process_time()\n",
    "print (\"elementwise multiplication time = \" + str(1000*(toc - tic)) + \"ms\")"
   ]
  },
  {
   "cell_type": "code",
   "execution_count": 124,
   "metadata": {},
   "outputs": [
    {
     "name": "stdout",
     "output_type": "stream",
     "text": [
      "dot  time = 0.0ms\n",
      "elementwise multiplication time = 0.0ms\n"
     ]
    }
   ],
   "source": [
    "x1 = np.arange(1000000)\n",
    "x2 = np.arange(1000000)\n",
    "### VECTORIZED DOT PRODUCT OF VECTORS ###\n",
    "tic = time.process_time()\n",
    "dot = np.dot(x1,x2)\n",
    "toc = time.process_time()\n",
    "print (\"dot  time = \" + str(1000*(toc - tic)) + \"ms\")\n",
    "\n",
    "### VECTORIZED ELEMENTWISE MULTIPLICATION ###\n",
    "tic = time.process_time()\n",
    "mul = np.multiply(x1,x2)\n",
    "toc = time.process_time()\n",
    "print (\"elementwise multiplication time = \" + str(1000*(toc - tic)) + \"ms\")\n"
   ]
  },
  {
   "cell_type": "markdown",
   "metadata": {},
   "source": [
    "As you may have noticed, the vectorized implementation is much cleaner and more efficient. \n",
    "\n",
    "**Note** that `np.dot()` performs a matrix-matrix or matrix-vector multiplication. This is different from `np.multiply()` and the `*` operator, which performs an element-wise multiplication."
   ]
  },
  {
   "cell_type": "code",
   "execution_count": null,
   "metadata": {},
   "outputs": [],
   "source": [
    "<img src=\"images/image2vector_kiank.png\" style=\"width:500px;height:300;\">"
   ]
  }
 ],
 "metadata": {
  "kernelspec": {
   "display_name": "Python 3",
   "language": "python",
   "name": "python3"
  },
  "language_info": {
   "codemirror_mode": {
    "name": "ipython",
    "version": 3
   },
   "file_extension": ".py",
   "mimetype": "text/x-python",
   "name": "python",
   "nbconvert_exporter": "python",
   "pygments_lexer": "ipython3",
   "version": "3.8.5"
  }
 },
 "nbformat": 4,
 "nbformat_minor": 1
}
