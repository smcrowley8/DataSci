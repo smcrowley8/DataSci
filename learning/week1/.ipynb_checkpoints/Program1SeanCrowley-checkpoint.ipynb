{
 "cells": [
  {
   "cell_type": "markdown",
   "metadata": {},
   "source": [
    "# CPSC380: Program 1 - Python\n",
    "\n",
    "In this programming assignment you will complete the following ten tasks with python. "
   ]
  },
  {
   "cell_type": "markdown",
   "metadata": {},
   "source": [
    "## 1. Python Basics (if/else, function, string)"
   ]
  },
  {
   "cell_type": "markdown",
   "metadata": {},
   "source": [
    "#### Question 1: \n",
    "Complete a function that accepts an input value (between 0.0 and 1.0), return a corresponding grade, based on the following.\n",
    "\n",
    "input_Score  Grade\n",
    "\n",
    "    >= 0.9    A\n",
    "    >= 0.8    B\n",
    "    >= 0.7    C\n",
    "    >= 0.6    D\n",
    "     < 0.6    F\n"
   ]
  },
  {
   "cell_type": "code",
   "execution_count": 1,
   "metadata": {},
   "outputs": [
    {
     "data": {
      "text/plain": [
       "'C'"
      ]
     },
     "execution_count": 1,
     "metadata": {},
     "output_type": "execute_result"
    }
   ],
   "source": [
    "def question_one(val):\n",
    "    #initally made a lambda and was going to use a dict as a switch based on the lambdas return with val\n",
    "    #but it took longer than 3 minutes to think through so heres some if statements\n",
    "    if val<0.6:\n",
    "        return \"F\"\n",
    "    if val<0.7:\n",
    "        return \"D\"\n",
    "    if val<0.8:\n",
    "        return \"C\"\n",
    "    if val<0.9:\n",
    "        return \"B\"\n",
    "    return \"A\"\n",
    "\n",
    "# do not change the code below    \n",
    "question_one(0.75)"
   ]
  },
  {
   "cell_type": "markdown",
   "metadata": {},
   "source": [
    "**Expected Output**: \n",
    "<table>\n",
    "    <tr> \n",
    "        <td> 'C' </td> \n",
    "    </tr>\n",
    "</table> "
   ]
  },
  {
   "cell_type": "markdown",
   "metadata": {},
   "source": [
    "#### Question 2\n",
    "\n",
    "Given an input string, return the **reverse words** (as a string).\n",
    "\n",
    "Examples:\n",
    "\n",
    " - Input : \"this is question 2\"\n",
    " - Output : \"2 question is this\"\n",
    "\n",
    "Hint:\n",
    " - you may use `split()` to get a list of words\n",
    " - read them reversely\n",
    " - concatenate them with `join()` method"
   ]
  },
  {
   "cell_type": "code",
   "execution_count": 2,
   "metadata": {},
   "outputs": [
    {
     "data": {
      "text/plain": [
       "'2 question is \"this'"
      ]
     },
     "execution_count": 2,
     "metadata": {},
     "output_type": "execute_result"
    }
   ],
   "source": [
    "def question_two(input):\n",
    "    # your code below\n",
    "    words=input.split(\" \") #split by space\n",
    "    return \" \".join(reversed(words)) #join reversed list with spaces inbetween\n",
    "\n",
    "# do not change the code below\n",
    "question_two('\"this is question 2')"
   ]
  },
  {
   "cell_type": "markdown",
   "metadata": {},
   "source": [
    "#### Question 3\n",
    "\n",
    "Given an input string and integer value of `i`, remove the `ith` chracter from the string, return a resulting string.\n",
    "\n",
    "Examples:\n",
    "\n",
    " - Input : \"Python\"\n",
    " - i:       4\n",
    " - Output : \"Pythn\" "
   ]
  },
  {
   "cell_type": "code",
   "execution_count": 3,
   "metadata": {},
   "outputs": [
    {
     "data": {
      "text/plain": [
       "'Pythn'"
      ]
     },
     "execution_count": 3,
     "metadata": {},
     "output_type": "execute_result"
    }
   ],
   "source": [
    "def question_three(input, i):\n",
    "    \n",
    "    # your code below\n",
    "    \n",
    "    return input[0:i]+input[i+1::] #list manip\n",
    "\n",
    "# do not change the code below\n",
    "\n",
    "question_three(\"Python\", 4)"
   ]
  },
  {
   "cell_type": "markdown",
   "metadata": {},
   "source": [
    "## 2. Python Data Structures"
   ]
  },
  {
   "cell_type": "markdown",
   "metadata": {},
   "source": [
    "#### Question 4\n",
    "Open the file `romeo.txt` and read it line by line. For each line, split the line into a\n",
    "list of words using the `split()` method. The program should build a list of words.\n",
    "For each word on each line check to see if the word is already in the list and if not\n",
    "append it to the list. When the program completes, sort and return the following three items: length of word list, the first word, and the last word."
   ]
  },
  {
   "cell_type": "code",
   "execution_count": 15,
   "metadata": {},
   "outputs": [
    {
     "data": {
      "text/plain": [
       "(26, 'Arise', 'yonder')"
      ]
     },
     "execution_count": 15,
     "metadata": {},
     "output_type": "execute_result"
    }
   ],
   "source": [
    "def question_four():\n",
    "    \n",
    "    # your code below\n",
    "    lines=[]\n",
    "    endWords=[]\n",
    "    with open(\"romeo.txt\", \"r\") as f:\n",
    "        #lines=f.readlines()\n",
    "        for line in f:\n",
    "            words=line.split(\" \")\n",
    "            #rn theres a \\n on each line, get rid of it\n",
    "            #words.pop(-1) #was popping whole word instead of removing newline char\n",
    "            words[-1]=words[-1].rstrip() #this removes trailing newline char\n",
    "            for word in words:\n",
    "                if not word in endWords and len(word)>0: #added len(word) to deny empty string \n",
    "                    endWords.append(word)\n",
    "    endWords=sorted(endWords)\n",
    "    \n",
    "            \n",
    "    return len(endWords), endWords[0], endWords[-1]\n",
    "\n",
    "# do not change the code below\n",
    "question_four()"
   ]
  },
  {
   "cell_type": "markdown",
   "metadata": {},
   "source": [
    "**Expected Output**: \n",
    "<table >\n",
    "    <tr> \n",
    "        <td> (26, 'Arise', 'yonder') </td> \n",
    "    </tr>\n",
    "</table> "
   ]
  },
  {
   "cell_type": "markdown",
   "metadata": {},
   "source": [
    "#### Question 5\n",
    "\n",
    "Read through the `mbox-short.txt`, find all the lines starting with the word `From`. Take the second word of those lines as the person who sent the mail, store these email addresses into a list. Count the frequency of these email addresses. Return: 1) the most frequent sender (email address) and 2) the corresponding number of time the sender sent."
   ]
  },
  {
   "cell_type": "code",
   "execution_count": 5,
   "metadata": {},
   "outputs": [
    {
     "data": {
      "text/plain": [
       "('cwen@iupui.edu', 5)"
      ]
     },
     "execution_count": 5,
     "metadata": {},
     "output_type": "execute_result"
    }
   ],
   "source": [
    "from collections import Counter\n",
    "\n",
    "def question_five():\n",
    "    # your code below\n",
    "    #much longer so lets do this one line at a time and build a dict for indexing and count\n",
    "    num_lines = sum(1 for line in open('mbox-short.txt')) \n",
    "    emails={}\n",
    "    with open(\"mbox-short.txt\", \"r\") as f:\n",
    "        #num_lines=sum(1 for line in f)\n",
    "        #for i in range(num_lines):\n",
    "        for tmp in f: #sjould be line?\n",
    "            #tmp=f.readline()\n",
    "            words=tmp.split(\" \")\n",
    "            if words[0]==\"From:\":\n",
    "                tmpEmail=words[1]#split by space so next full \"word\" is the entire email\n",
    "                tmpEmail=tmpEmail[:-1] #nasty \\n\n",
    "                if tmpEmail in emails:\n",
    "                    emails[tmpEmail]+=1\n",
    "                else:\n",
    "                    emails[tmpEmail]=1\n",
    "    sort_emails = sorted(emails.items(), key=lambda x: x[1], reverse=True) \n",
    "    #sort by count (val of dict), order big to small\n",
    "    \n",
    "    return sort_emails[0][0], sort_emails[0][1]\n",
    "\n",
    "# do not change the code below\n",
    "question_five()"
   ]
  },
  {
   "cell_type": "markdown",
   "metadata": {},
   "source": [
    "**Expected Output**: \n",
    "<table >\n",
    "    <tr> \n",
    "        <td>('cwen@iupui.edu', 5)</td> \n",
    "    </tr>\n",
    "</table> "
   ]
  },
  {
   "cell_type": "markdown",
   "metadata": {},
   "source": [
    "#### Question 6\n",
    "\n",
    "Given two common input lists, check whether two lists contain at least one common element. Return true if yes, false otherwise.\n"
   ]
  },
  {
   "cell_type": "code",
   "execution_count": 6,
   "metadata": {},
   "outputs": [
    {
     "data": {
      "text/plain": [
       "True"
      ]
     },
     "execution_count": 6,
     "metadata": {},
     "output_type": "execute_result"
    }
   ],
   "source": [
    "def question_six(list1, list2):\n",
    "    \n",
    "    # your code below\n",
    "    for i in list1:\n",
    "        if i in list2:\n",
    "            return True\n",
    "    return False\n",
    "\n",
    "# do not change the code below  \n",
    "list1 = [1, 2, 3, 4, 5]\n",
    "list2 = [5, 6, 7, 8, 9]\n",
    "question_six(list1, list2)"
   ]
  },
  {
   "cell_type": "markdown",
   "metadata": {},
   "source": [
    "## 3. Python class"
   ]
  },
  {
   "cell_type": "markdown",
   "metadata": {},
   "source": [
    "#### Question 7\n",
    "1. Create a class Rectangle. This class has:\n",
    " - attributes __length and __width, each of which defaults to 1.\n",
    " - methods that calculate the perimeter and area of the rectangle. \n",
    " - It has set and get methods both __length and __width.\n",
    "\n",
    "2. Write a drive program to test the class.\n",
    " - create a rectangle object\n",
    " - set length of 4, and width of 3\n",
    " - print out the length, width, perimeter, and area"
   ]
  },
  {
   "cell_type": "code",
   "execution_count": 7,
   "metadata": {},
   "outputs": [
    {
     "name": "stdout",
     "output_type": "stream",
     "text": [
      "The length is 4\n",
      "The width is 3\n",
      "The perimeter is 14\n",
      "The area is 12\n"
     ]
    }
   ],
   "source": [
    "class Rectangle:\n",
    "    # Init function\n",
    "    def __init__(self):\n",
    "        self._length = 1\n",
    "        self._width=1\n",
    "        \n",
    "    # Setters\n",
    "    def setLength(self, l):\n",
    "        self._length=l\n",
    "    \n",
    "    def setWidth(self, w):\n",
    "        self._width=w\n",
    "    # Getters\n",
    "    def getLength(self):\n",
    "        return 0+self._length #dont return this classes instance return a copy value\n",
    "    \n",
    "    def getWidth(self):\n",
    "        return 0+self._width\n",
    "    \n",
    "    def getArea(self):\n",
    "        return self._width * self._length\n",
    "    \n",
    "    def getPerimeter(self):\n",
    "        return self._width*2 + self._length*2\n",
    "    \n",
    "def question_seven():\n",
    "    \n",
    "    # create a rectangle object\n",
    "    rect=Rectangle()\n",
    "    \n",
    "    # set the length of 4 and width of 3\n",
    "    rect.setLength(4)\n",
    "    rect.setWidth(3)\n",
    "\n",
    "    # print out the length, width, perimeter, and area\n",
    "    print(f'The length is {rect.getLength()}\\nThe width is {rect.getWidth()}')\n",
    "    print(f'The perimeter is {rect.getPerimeter()}\\nThe area is {rect.getArea()}')\n",
    "question_seven()"
   ]
  },
  {
   "cell_type": "markdown",
   "metadata": {},
   "source": [
    "**Expected Output**: \n",
    "<table >\n",
    "    <tr> \n",
    "        <td>The length is 4</td> \n",
    "    </tr>\n",
    "    <tr> \n",
    "        <td>The width is 3</td> \n",
    "    </tr>\n",
    "    <tr> \n",
    "        <td>The perimeter is 14</td> \n",
    "    </tr>\n",
    "    <tr> \n",
    "        <td>The area is 12</td> \n",
    "    </tr>\n",
    "</table> "
   ]
  },
  {
   "cell_type": "markdown",
   "metadata": {},
   "source": [
    "## 4. Python non-basics"
   ]
  },
  {
   "cell_type": "markdown",
   "metadata": {},
   "source": [
    "#### Question 8\n",
    "Given a string `s` and an integer array indices of the same length. The string `s` will be shuffled such that the character at the `ith` position moves to indices[i] in the shuffled string. Return the shuffled string.\n",
    "\n",
    "Examples:\n",
    "\n",
    " - s = `codeleet`\n",
    " - indices = [4,5,6,7,0,2,1,3]\n",
    " - Explanation: {c:4, o:5,d:6,e:7,l:0,e:2,e:1,t:3}. We will move `l` to index 0, `e` to index 1, `e` to index 2, `t` to index 3,...\n",
    " - Output : `leetcode` "
   ]
  },
  {
   "cell_type": "code",
   "execution_count": 8,
   "metadata": {},
   "outputs": [
    {
     "data": {
      "text/plain": [
       "'leetcode'"
      ]
     },
     "execution_count": 8,
     "metadata": {},
     "output_type": "execute_result"
    }
   ],
   "source": [
    "def question_eight(s, indices):\n",
    "        \n",
    "    # your code below\n",
    "    d=zip(s, indices)\n",
    "    sortedD=sorted(d, key=lambda x: x[1]) #sortby indices, least to greatest\n",
    "    ans=\"\"\n",
    "    for tmp in sortedD:\n",
    "        ans+=tmp[0]\n",
    "    return ans\n",
    "\n",
    "# do not change the code below\n",
    "\n",
    "s = \"codeleet\"\n",
    "indices = [4,5,6,7,0,2,1,3]\n",
    "\n",
    "question_eight(s, indices)"
   ]
  },
  {
   "cell_type": "markdown",
   "metadata": {},
   "source": [
    "\n",
    "#### Question 9\n",
    "\n",
    "Given a string paragraph and a string array of the banned words banned, return the most frequent word that is not banned. It is guaranteed there is at least one word that is not banned, and that the answer is unique.\n",
    "\n",
    "The words in paragraph are case-insensitive and the answer should be returned in lowercase.\n",
    "\n",
    "Example:\n",
    " - Input: \n",
    "  - paragraph = \"Bob hit a ball, the hit BALL flew far after it was hit.\"\n",
    "  - banned = [\"hit\"]\n",
    " - Output: \"ball\"\n",
    "\n",
    "Explanation: \n",
    " - \"hit\" occurs 3 times, but it is a banned word.\n",
    " - \"ball\" occurs twice (and no other word does), so it is the most frequent non-banned word in the paragraph. \n",
    " - Note that words in the paragraph are not case sensitive, that punctuation is ignored."
   ]
  },
  {
   "cell_type": "code",
   "execution_count": 9,
   "metadata": {},
   "outputs": [
    {
     "data": {
      "text/plain": [
       "'ball'"
      ]
     },
     "execution_count": 9,
     "metadata": {},
     "output_type": "execute_result"
    }
   ],
   "source": [
    "import re, collections\n",
    "\n",
    "def question_nine(paragraph, banned):\n",
    "        \n",
    "    # will remove ' ', or one of the symbols: \"!?',;.\" (delimiters).\n",
    "    regex = r'\\w+'\n",
    "    words=re.findall(regex,paragraph)\n",
    "    # your code below\n",
    "    d={}\n",
    "    for word in words:\n",
    "        word=word.lower()\n",
    "        if word in banned:\n",
    "            continue\n",
    "        if word in d:\n",
    "            d[word]+=1\n",
    "        else:\n",
    "            d[word]=1\n",
    "    \n",
    "    s=sorted(d.items(), key=lambda x: x[1], reverse=True)\n",
    "    return s[0][0]\n",
    "\n",
    "# do not change the code below\n",
    "paragraph = \"Bob hit a ball, the hit BALL flew far after it was hit.\"\n",
    "banned = [\"hit\"]\n",
    "question_nine(paragraph, banned)"
   ]
  },
  {
   "cell_type": "markdown",
   "metadata": {},
   "source": [
    "#### Question 10\n",
    "\n",
    "Given :\n",
    " - an array of points where $points[i] = [x_{i}, y_{i}]$ represents a point on the X-Y plane and \n",
    " - an integer $k$\n",
    " \n",
    "Return the $k$ closest points to the origin (0, 0).\n",
    "\n",
    "\n",
    "**Note**: The distance between two points on the X-Y plane is the Euclidean distance (i.e., $\\sqrt{(x_{1} - x_{2})^2 + (y_{1} - y_{2})^2}$).\n",
    "\n",
    "\n",
    "For example:\n",
    "\n",
    " - dist([3,3], [0,0])= $\\sqrt{3^2+3^2}=\\sqrt{18}$\n",
    " - dist([5,-1], [0,0])= $\\sqrt{5^2+(-1)^2}=\\sqrt{26}$\n",
    " \n",
    "So, [3,3] is closer point to the origin (0,0)."
   ]
  },
  {
   "cell_type": "code",
   "execution_count": 10,
   "metadata": {},
   "outputs": [
    {
     "data": {
      "text/plain": [
       "([3, 3], [-2, 4])"
      ]
     },
     "execution_count": 10,
     "metadata": {},
     "output_type": "execute_result"
    }
   ],
   "source": [
    "def question_ten(points, k):\n",
    "        \n",
    "    # your code below\n",
    "    #since origin is comparison point, same forumula can be applied to all points to convert to distance\n",
    "    distance=[abs(pt[0]**2 + pt[1]**2) for pt in points]\n",
    "    #need to keep track of which points are which distances, so idx dict it\n",
    "    d=dict(zip(range(len(points)), distance))\n",
    "    d=sorted(d.items(), key=lambda x: x[1])\n",
    "    small1, small2= d[0][0], d[1][0]\n",
    "    return points[small1], points[small2]\n",
    "\n",
    "# do not change the code below\n",
    "points=[[3,3],[5,-1],[-2,4], [0, 10], [5, 6], [4, 4], [5,5], [-1,9]]\n",
    "question_ten(points, 2)"
   ]
  },
  {
   "cell_type": "markdown",
   "metadata": {},
   "source": [
    "**Expected Output**: \n",
    "<table >\n",
    "    <tr> \n",
    "        <td>[[3, 3], [-2, 4]]</td> \n",
    "    </tr>\n",
    "</table> "
   ]
  }
 ],
 "metadata": {
  "coursera": {
   "course_slug": "python-text-mining",
   "graded_item_id": "r35En",
   "launcher_item_id": "tCVfW",
   "part_id": "NTVgL"
  },
  "kernelspec": {
   "display_name": "Python 3",
   "language": "python",
   "name": "python3"
  },
  "language_info": {
   "codemirror_mode": {
    "name": "ipython",
    "version": 3
   },
   "file_extension": ".py",
   "mimetype": "text/x-python",
   "name": "python",
   "nbconvert_exporter": "python",
   "pygments_lexer": "ipython3",
   "version": "3.8.5"
  }
 },
 "nbformat": 4,
 "nbformat_minor": 2
}
